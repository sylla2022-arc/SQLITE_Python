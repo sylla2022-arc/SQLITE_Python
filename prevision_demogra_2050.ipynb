{
 "cells": [
  {
   "cell_type": "code",
   "execution_count": 1,
   "id": "afd4ce99",
   "metadata": {},
   "outputs": [],
   "source": [
    "import math\n",
    "import pandas as pd\n",
    "import sqlite3\n",
    "import numpy as np"
   ]
  },
  {
   "cell_type": "code",
   "execution_count": 2,
   "id": "547a2e4e",
   "metadata": {},
   "outputs": [
    {
     "data": {
      "text/html": [
       "<div>\n",
       "<style scoped>\n",
       "    .dataframe tbody tr th:only-of-type {\n",
       "        vertical-align: middle;\n",
       "    }\n",
       "\n",
       "    .dataframe tbody tr th {\n",
       "        vertical-align: top;\n",
       "    }\n",
       "\n",
       "    .dataframe thead th {\n",
       "        text-align: right;\n",
       "    }\n",
       "</style>\n",
       "<table border=\"1\" class=\"dataframe\">\n",
       "  <thead>\n",
       "    <tr style=\"text-align: right;\">\n",
       "      <th></th>\n",
       "      <th>id</th>\n",
       "      <th>code</th>\n",
       "      <th>name</th>\n",
       "      <th>area</th>\n",
       "      <th>area_land</th>\n",
       "      <th>area_water</th>\n",
       "      <th>population</th>\n",
       "      <th>population_growth</th>\n",
       "      <th>birth_rate</th>\n",
       "      <th>death_rate</th>\n",
       "      <th>migration_rate</th>\n",
       "      <th>created_at</th>\n",
       "      <th>updated_at</th>\n",
       "    </tr>\n",
       "  </thead>\n",
       "  <tbody>\n",
       "    <tr>\n",
       "      <th>0</th>\n",
       "      <td>2</td>\n",
       "      <td>al</td>\n",
       "      <td>Albania</td>\n",
       "      <td>28748.0</td>\n",
       "      <td>27398</td>\n",
       "      <td>1350</td>\n",
       "      <td>3029278.0</td>\n",
       "      <td>0.30</td>\n",
       "      <td>12.92</td>\n",
       "      <td>6.58</td>\n",
       "      <td>3.3</td>\n",
       "      <td>2015-11-01 13:19:54.431082</td>\n",
       "      <td>2015-11-01 13:19:54.431082</td>\n",
       "    </tr>\n",
       "    <tr>\n",
       "      <th>1</th>\n",
       "      <td>7</td>\n",
       "      <td>ar</td>\n",
       "      <td>Argentina</td>\n",
       "      <td>2780400.0</td>\n",
       "      <td>2736690</td>\n",
       "      <td>43710</td>\n",
       "      <td>43431886.0</td>\n",
       "      <td>0.93</td>\n",
       "      <td>16.64</td>\n",
       "      <td>7.33</td>\n",
       "      <td>0.0</td>\n",
       "      <td>2015-11-01 13:20:18.233063</td>\n",
       "      <td>2015-11-01 13:20:18.233063</td>\n",
       "    </tr>\n",
       "  </tbody>\n",
       "</table>\n",
       "</div>"
      ],
      "text/plain": [
       "   id code       name       area  area_land  area_water  population  \\\n",
       "0   2   al    Albania    28748.0      27398        1350   3029278.0   \n",
       "1   7   ar  Argentina  2780400.0    2736690       43710  43431886.0   \n",
       "\n",
       "   population_growth  birth_rate  death_rate  migration_rate  \\\n",
       "0               0.30       12.92        6.58             3.3   \n",
       "1               0.93       16.64        7.33             0.0   \n",
       "\n",
       "                   created_at                  updated_at  \n",
       "0  2015-11-01 13:19:54.431082  2015-11-01 13:19:54.431082  \n",
       "1  2015-11-01 13:20:18.233063  2015-11-01 13:20:18.233063  "
      ]
     },
     "execution_count": 2,
     "metadata": {},
     "output_type": "execute_result"
    }
   ],
   "source": [
    "\"Calculer une estimation de la population en 2050\"\n",
    "connexion = sqlite3.connect(\"factbook.db\")\n",
    "data = pd.read_sql_query(\"select * from facts where (area_land != ' ') and (area_water != 0);\", con = connexion)\n",
    "data.head(2)"
   ]
  },
  {
   "cell_type": "code",
   "execution_count": 3,
   "id": "e6b1e8d9",
   "metadata": {},
   "outputs": [],
   "source": [
    "data.dropna(inplace = True)"
   ]
  },
  {
   "cell_type": "markdown",
   "id": "0ac5d8bf",
   "metadata": {},
   "source": [
    "## Formule mathématiques de prévision demographique\n",
    "\n",
    "* **N = N0*exp(rt)** >>>>>>>> N0*e**(r*t)\n",
    "\n",
    "    * **N0 = pop initial**\n",
    "    \n",
    "    * **exp = fonction exponentielle**\n",
    "    \n",
    "    * **r = taux d'évolution annuelle**\n",
    "    \n",
    "    * **t = Nbre d'année entre tps prevu  et temps init**"
   ]
  },
  {
   "cell_type": "code",
   "execution_count": 4,
   "id": "8b858b8e",
   "metadata": {},
   "outputs": [],
   "source": [
    "def pop_growth(data):\n",
    "    return data['population']*np.e**((data['population_growth']/100)*35)"
   ]
  },
  {
   "cell_type": "code",
   "execution_count": 5,
   "id": "4a3840f5",
   "metadata": {},
   "outputs": [
    {
     "data": {
      "text/plain": [
       "2.718281828459045"
      ]
     },
     "execution_count": 5,
     "metadata": {},
     "output_type": "execute_result"
    }
   ],
   "source": [
    "np.e"
   ]
  },
  {
   "cell_type": "code",
   "execution_count": 6,
   "id": "1ac3b2a5",
   "metadata": {},
   "outputs": [],
   "source": [
    "data[\"Pop_2050\"] =  data.apply(lambda row: pop_growth(row), axis = 1)"
   ]
  },
  {
   "cell_type": "code",
   "execution_count": 7,
   "id": "80c1b922",
   "metadata": {},
   "outputs": [
    {
     "data": {
      "text/html": [
       "<div>\n",
       "<style scoped>\n",
       "    .dataframe tbody tr th:only-of-type {\n",
       "        vertical-align: middle;\n",
       "    }\n",
       "\n",
       "    .dataframe tbody tr th {\n",
       "        vertical-align: top;\n",
       "    }\n",
       "\n",
       "    .dataframe thead th {\n",
       "        text-align: right;\n",
       "    }\n",
       "</style>\n",
       "<table border=\"1\" class=\"dataframe\">\n",
       "  <thead>\n",
       "    <tr style=\"text-align: right;\">\n",
       "      <th></th>\n",
       "      <th>id</th>\n",
       "      <th>code</th>\n",
       "      <th>name</th>\n",
       "      <th>area</th>\n",
       "      <th>area_land</th>\n",
       "      <th>area_water</th>\n",
       "      <th>population</th>\n",
       "      <th>population_growth</th>\n",
       "      <th>birth_rate</th>\n",
       "      <th>death_rate</th>\n",
       "      <th>migration_rate</th>\n",
       "      <th>created_at</th>\n",
       "      <th>updated_at</th>\n",
       "      <th>Pop_2050</th>\n",
       "    </tr>\n",
       "  </thead>\n",
       "  <tbody>\n",
       "    <tr>\n",
       "      <th>0</th>\n",
       "      <td>2</td>\n",
       "      <td>al</td>\n",
       "      <td>Albania</td>\n",
       "      <td>28748.0</td>\n",
       "      <td>27398</td>\n",
       "      <td>1350</td>\n",
       "      <td>3029278.0</td>\n",
       "      <td>0.30</td>\n",
       "      <td>12.92</td>\n",
       "      <td>6.58</td>\n",
       "      <td>3.3</td>\n",
       "      <td>2015-11-01 13:19:54.431082</td>\n",
       "      <td>2015-11-01 13:19:54.431082</td>\n",
       "      <td>3.364651e+06</td>\n",
       "    </tr>\n",
       "    <tr>\n",
       "      <th>1</th>\n",
       "      <td>7</td>\n",
       "      <td>ar</td>\n",
       "      <td>Argentina</td>\n",
       "      <td>2780400.0</td>\n",
       "      <td>2736690</td>\n",
       "      <td>43710</td>\n",
       "      <td>43431886.0</td>\n",
       "      <td>0.93</td>\n",
       "      <td>16.64</td>\n",
       "      <td>7.33</td>\n",
       "      <td>0.0</td>\n",
       "      <td>2015-11-01 13:20:18.233063</td>\n",
       "      <td>2015-11-01 13:20:18.233063</td>\n",
       "      <td>6.014112e+07</td>\n",
       "    </tr>\n",
       "  </tbody>\n",
       "</table>\n",
       "</div>"
      ],
      "text/plain": [
       "   id code       name       area  area_land  area_water  population  \\\n",
       "0   2   al    Albania    28748.0      27398        1350   3029278.0   \n",
       "1   7   ar  Argentina  2780400.0    2736690       43710  43431886.0   \n",
       "\n",
       "   population_growth  birth_rate  death_rate  migration_rate  \\\n",
       "0               0.30       12.92        6.58             3.3   \n",
       "1               0.93       16.64        7.33             0.0   \n",
       "\n",
       "                   created_at                  updated_at      Pop_2050  \n",
       "0  2015-11-01 13:19:54.431082  2015-11-01 13:19:54.431082  3.364651e+06  \n",
       "1  2015-11-01 13:20:18.233063  2015-11-01 13:20:18.233063  6.014112e+07  "
      ]
     },
     "execution_count": 7,
     "metadata": {},
     "output_type": "execute_result"
    }
   ],
   "source": [
    "data.head(2)"
   ]
  },
  {
   "cell_type": "markdown",
   "id": "4d9586eb",
   "metadata": {},
   "source": [
    "### Trier sur la zone geographique"
   ]
  },
  {
   "cell_type": "code",
   "execution_count": 8,
   "id": "0637d367",
   "metadata": {},
   "outputs": [
    {
     "data": {
      "text/html": [
       "<div>\n",
       "<style scoped>\n",
       "    .dataframe tbody tr th:only-of-type {\n",
       "        vertical-align: middle;\n",
       "    }\n",
       "\n",
       "    .dataframe tbody tr th {\n",
       "        vertical-align: top;\n",
       "    }\n",
       "\n",
       "    .dataframe thead th {\n",
       "        text-align: right;\n",
       "    }\n",
       "</style>\n",
       "<table border=\"1\" class=\"dataframe\">\n",
       "  <thead>\n",
       "    <tr style=\"text-align: right;\">\n",
       "      <th></th>\n",
       "      <th>id</th>\n",
       "      <th>code</th>\n",
       "      <th>name</th>\n",
       "      <th>area</th>\n",
       "      <th>area_land</th>\n",
       "      <th>area_water</th>\n",
       "      <th>population</th>\n",
       "      <th>population_growth</th>\n",
       "      <th>birth_rate</th>\n",
       "      <th>death_rate</th>\n",
       "      <th>migration_rate</th>\n",
       "      <th>created_at</th>\n",
       "      <th>updated_at</th>\n",
       "      <th>Pop_2050</th>\n",
       "    </tr>\n",
       "  </thead>\n",
       "  <tbody>\n",
       "    <tr>\n",
       "      <th>0</th>\n",
       "      <td>2</td>\n",
       "      <td>al</td>\n",
       "      <td>Albania</td>\n",
       "      <td>28748.0</td>\n",
       "      <td>27398</td>\n",
       "      <td>1350</td>\n",
       "      <td>3029278.0</td>\n",
       "      <td>0.30</td>\n",
       "      <td>12.92</td>\n",
       "      <td>6.58</td>\n",
       "      <td>3.3</td>\n",
       "      <td>2015-11-01 13:19:54.431082</td>\n",
       "      <td>2015-11-01 13:19:54.431082</td>\n",
       "      <td>3.364651e+06</td>\n",
       "    </tr>\n",
       "    <tr>\n",
       "      <th>1</th>\n",
       "      <td>7</td>\n",
       "      <td>ar</td>\n",
       "      <td>Argentina</td>\n",
       "      <td>2780400.0</td>\n",
       "      <td>2736690</td>\n",
       "      <td>43710</td>\n",
       "      <td>43431886.0</td>\n",
       "      <td>0.93</td>\n",
       "      <td>16.64</td>\n",
       "      <td>7.33</td>\n",
       "      <td>0.0</td>\n",
       "      <td>2015-11-01 13:20:18.233063</td>\n",
       "      <td>2015-11-01 13:20:18.233063</td>\n",
       "      <td>6.014112e+07</td>\n",
       "    </tr>\n",
       "  </tbody>\n",
       "</table>\n",
       "</div>"
      ],
      "text/plain": [
       "   id code       name       area  area_land  area_water  population  \\\n",
       "0   2   al    Albania    28748.0      27398        1350   3029278.0   \n",
       "1   7   ar  Argentina  2780400.0    2736690       43710  43431886.0   \n",
       "\n",
       "   population_growth  birth_rate  death_rate  migration_rate  \\\n",
       "0               0.30       12.92        6.58             3.3   \n",
       "1               0.93       16.64        7.33             0.0   \n",
       "\n",
       "                   created_at                  updated_at      Pop_2050  \n",
       "0  2015-11-01 13:19:54.431082  2015-11-01 13:19:54.431082  3.364651e+06  \n",
       "1  2015-11-01 13:20:18.233063  2015-11-01 13:20:18.233063  6.014112e+07  "
      ]
     },
     "execution_count": 8,
     "metadata": {},
     "output_type": "execute_result"
    }
   ],
   "source": [
    "data =  data[(data['area_land']> 0) &  (data['population']> 0)]\n",
    "data.head(2)"
   ]
  },
  {
   "cell_type": "code",
   "execution_count": 9,
   "id": "cb39b35c",
   "metadata": {},
   "outputs": [
    {
     "data": {
      "text/html": [
       "<div>\n",
       "<style scoped>\n",
       "    .dataframe tbody tr th:only-of-type {\n",
       "        vertical-align: middle;\n",
       "    }\n",
       "\n",
       "    .dataframe tbody tr th {\n",
       "        vertical-align: top;\n",
       "    }\n",
       "\n",
       "    .dataframe thead th {\n",
       "        text-align: right;\n",
       "    }\n",
       "</style>\n",
       "<table border=\"1\" class=\"dataframe\">\n",
       "  <thead>\n",
       "    <tr style=\"text-align: right;\">\n",
       "      <th></th>\n",
       "      <th>id</th>\n",
       "      <th>code</th>\n",
       "      <th>name</th>\n",
       "      <th>area</th>\n",
       "      <th>area_land</th>\n",
       "      <th>area_water</th>\n",
       "      <th>population</th>\n",
       "      <th>population_growth</th>\n",
       "      <th>birth_rate</th>\n",
       "      <th>death_rate</th>\n",
       "      <th>migration_rate</th>\n",
       "      <th>created_at</th>\n",
       "      <th>updated_at</th>\n",
       "      <th>Pop_2050</th>\n",
       "    </tr>\n",
       "  </thead>\n",
       "  <tbody>\n",
       "    <tr>\n",
       "      <th>59</th>\n",
       "      <td>77</td>\n",
       "      <td>in</td>\n",
       "      <td>India</td>\n",
       "      <td>3287263.0</td>\n",
       "      <td>2973193</td>\n",
       "      <td>314070</td>\n",
       "      <td>1.251696e+09</td>\n",
       "      <td>1.22</td>\n",
       "      <td>19.55</td>\n",
       "      <td>7.32</td>\n",
       "      <td>0.04</td>\n",
       "      <td>2015-11-01 13:26:24.788193</td>\n",
       "      <td>2015-11-01 13:26:24.788193</td>\n",
       "      <td>1.918415e+09</td>\n",
       "    </tr>\n",
       "    <tr>\n",
       "      <th>26</th>\n",
       "      <td>37</td>\n",
       "      <td>ch</td>\n",
       "      <td>China</td>\n",
       "      <td>9596960.0</td>\n",
       "      <td>9326410</td>\n",
       "      <td>270550</td>\n",
       "      <td>1.367485e+09</td>\n",
       "      <td>0.45</td>\n",
       "      <td>12.49</td>\n",
       "      <td>7.53</td>\n",
       "      <td>0.44</td>\n",
       "      <td>2015-11-01 13:22:53.813142</td>\n",
       "      <td>2015-11-01 13:22:53.813142</td>\n",
       "      <td>1.600752e+09</td>\n",
       "    </tr>\n",
       "    <tr>\n",
       "      <th>96</th>\n",
       "      <td>129</td>\n",
       "      <td>ni</td>\n",
       "      <td>Nigeria</td>\n",
       "      <td>923768.0</td>\n",
       "      <td>910768</td>\n",
       "      <td>13000</td>\n",
       "      <td>1.815621e+08</td>\n",
       "      <td>2.45</td>\n",
       "      <td>37.64</td>\n",
       "      <td>12.90</td>\n",
       "      <td>0.22</td>\n",
       "      <td>2015-11-01 13:30:39.695455</td>\n",
       "      <td>2015-11-01 13:30:39.695455</td>\n",
       "      <td>4.279890e+08</td>\n",
       "    </tr>\n",
       "    <tr>\n",
       "      <th>137</th>\n",
       "      <td>186</td>\n",
       "      <td>us</td>\n",
       "      <td>United States</td>\n",
       "      <td>9826675.0</td>\n",
       "      <td>9161966</td>\n",
       "      <td>664709</td>\n",
       "      <td>3.213689e+08</td>\n",
       "      <td>0.78</td>\n",
       "      <td>12.49</td>\n",
       "      <td>8.15</td>\n",
       "      <td>3.86</td>\n",
       "      <td>2015-11-01 13:35:14.898271</td>\n",
       "      <td>2015-11-01 13:35:14.898271</td>\n",
       "      <td>4.222466e+08</td>\n",
       "    </tr>\n",
       "    <tr>\n",
       "      <th>60</th>\n",
       "      <td>78</td>\n",
       "      <td>id</td>\n",
       "      <td>Indonesia</td>\n",
       "      <td>1904569.0</td>\n",
       "      <td>1811569</td>\n",
       "      <td>93000</td>\n",
       "      <td>2.559937e+08</td>\n",
       "      <td>0.92</td>\n",
       "      <td>16.72</td>\n",
       "      <td>6.37</td>\n",
       "      <td>1.16</td>\n",
       "      <td>2015-11-01 13:26:30.435758</td>\n",
       "      <td>2015-11-01 13:26:30.435758</td>\n",
       "      <td>3.532418e+08</td>\n",
       "    </tr>\n",
       "    <tr>\n",
       "      <th>98</th>\n",
       "      <td>132</td>\n",
       "      <td>pk</td>\n",
       "      <td>Pakistan</td>\n",
       "      <td>796095.0</td>\n",
       "      <td>770875</td>\n",
       "      <td>25220</td>\n",
       "      <td>1.990858e+08</td>\n",
       "      <td>1.46</td>\n",
       "      <td>22.58</td>\n",
       "      <td>6.49</td>\n",
       "      <td>1.54</td>\n",
       "      <td>2015-11-01 13:30:54.514863</td>\n",
       "      <td>2015-11-01 13:30:54.514863</td>\n",
       "      <td>3.318676e+08</td>\n",
       "    </tr>\n",
       "    <tr>\n",
       "      <th>7</th>\n",
       "      <td>14</td>\n",
       "      <td>bg</td>\n",
       "      <td>Bangladesh</td>\n",
       "      <td>148460.0</td>\n",
       "      <td>130170</td>\n",
       "      <td>18290</td>\n",
       "      <td>1.689577e+08</td>\n",
       "      <td>1.60</td>\n",
       "      <td>21.14</td>\n",
       "      <td>5.61</td>\n",
       "      <td>0.46</td>\n",
       "      <td>2015-11-01 13:20:52.753843</td>\n",
       "      <td>2015-11-01 13:20:52.753843</td>\n",
       "      <td>2.957897e+08</td>\n",
       "    </tr>\n",
       "    <tr>\n",
       "      <th>15</th>\n",
       "      <td>24</td>\n",
       "      <td>br</td>\n",
       "      <td>Brazil</td>\n",
       "      <td>8515770.0</td>\n",
       "      <td>8358140</td>\n",
       "      <td>157630</td>\n",
       "      <td>2.042598e+08</td>\n",
       "      <td>0.77</td>\n",
       "      <td>14.46</td>\n",
       "      <td>6.58</td>\n",
       "      <td>0.14</td>\n",
       "      <td>2015-11-01 13:21:42.799461</td>\n",
       "      <td>2015-11-01 13:21:42.799461</td>\n",
       "      <td>2.674393e+08</td>\n",
       "    </tr>\n",
       "    <tr>\n",
       "      <th>28</th>\n",
       "      <td>40</td>\n",
       "      <td>cg</td>\n",
       "      <td>Congo, Democratic Republic of the</td>\n",
       "      <td>2344858.0</td>\n",
       "      <td>2267048</td>\n",
       "      <td>77810</td>\n",
       "      <td>7.937514e+07</td>\n",
       "      <td>2.45</td>\n",
       "      <td>34.88</td>\n",
       "      <td>10.07</td>\n",
       "      <td>0.27</td>\n",
       "      <td>2015-11-01 13:23:09.778305</td>\n",
       "      <td>2015-11-01 13:23:09.778305</td>\n",
       "      <td>1.871078e+08</td>\n",
       "    </tr>\n",
       "  </tbody>\n",
       "</table>\n",
       "</div>"
      ],
      "text/plain": [
       "      id code                               name       area  area_land  \\\n",
       "59    77   in                              India  3287263.0    2973193   \n",
       "26    37   ch                              China  9596960.0    9326410   \n",
       "96   129   ni                            Nigeria   923768.0     910768   \n",
       "137  186   us                      United States  9826675.0    9161966   \n",
       "60    78   id                          Indonesia  1904569.0    1811569   \n",
       "98   132   pk                           Pakistan   796095.0     770875   \n",
       "7     14   bg                         Bangladesh   148460.0     130170   \n",
       "15    24   br                             Brazil  8515770.0    8358140   \n",
       "28    40   cg  Congo, Democratic Republic of the  2344858.0    2267048   \n",
       "\n",
       "     area_water    population  population_growth  birth_rate  death_rate  \\\n",
       "59       314070  1.251696e+09               1.22       19.55        7.32   \n",
       "26       270550  1.367485e+09               0.45       12.49        7.53   \n",
       "96        13000  1.815621e+08               2.45       37.64       12.90   \n",
       "137      664709  3.213689e+08               0.78       12.49        8.15   \n",
       "60        93000  2.559937e+08               0.92       16.72        6.37   \n",
       "98        25220  1.990858e+08               1.46       22.58        6.49   \n",
       "7         18290  1.689577e+08               1.60       21.14        5.61   \n",
       "15       157630  2.042598e+08               0.77       14.46        6.58   \n",
       "28        77810  7.937514e+07               2.45       34.88       10.07   \n",
       "\n",
       "     migration_rate                  created_at                  updated_at  \\\n",
       "59             0.04  2015-11-01 13:26:24.788193  2015-11-01 13:26:24.788193   \n",
       "26             0.44  2015-11-01 13:22:53.813142  2015-11-01 13:22:53.813142   \n",
       "96             0.22  2015-11-01 13:30:39.695455  2015-11-01 13:30:39.695455   \n",
       "137            3.86  2015-11-01 13:35:14.898271  2015-11-01 13:35:14.898271   \n",
       "60             1.16  2015-11-01 13:26:30.435758  2015-11-01 13:26:30.435758   \n",
       "98             1.54  2015-11-01 13:30:54.514863  2015-11-01 13:30:54.514863   \n",
       "7              0.46  2015-11-01 13:20:52.753843  2015-11-01 13:20:52.753843   \n",
       "15             0.14  2015-11-01 13:21:42.799461  2015-11-01 13:21:42.799461   \n",
       "28             0.27  2015-11-01 13:23:09.778305  2015-11-01 13:23:09.778305   \n",
       "\n",
       "         Pop_2050  \n",
       "59   1.918415e+09  \n",
       "26   1.600752e+09  \n",
       "96   4.279890e+08  \n",
       "137  4.222466e+08  \n",
       "60   3.532418e+08  \n",
       "98   3.318676e+08  \n",
       "7    2.957897e+08  \n",
       "15   2.674393e+08  \n",
       "28   1.871078e+08  "
      ]
     },
     "execution_count": 9,
     "metadata": {},
     "output_type": "execute_result"
    }
   ],
   "source": [
    "data.sort_values(by= ['Pop_2050'], ascending = False).iloc[0:9]"
   ]
  },
  {
   "cell_type": "code",
   "execution_count": 10,
   "id": "96fa4d33",
   "metadata": {},
   "outputs": [
    {
     "data": {
      "text/plain": [
       "6867522525.0"
      ]
     },
     "execution_count": 10,
     "metadata": {},
     "output_type": "execute_result"
    }
   ],
   "source": [
    "pop_total = data.population.sum()\n",
    "pop_total"
   ]
  },
  {
   "cell_type": "code",
   "execution_count": 19,
   "id": "3584f10c",
   "metadata": {},
   "outputs": [],
   "source": [
    "ratio_area = (data['area_land'].sum())/(data['area_water'].sum())\n",
    "#data['ratio_area'] = ratio_area\n",
    "#data_1 = data[['name',\"ratio_area\"]].sort_values(by = 'ratio_area', ascending = False )"
   ]
  },
  {
   "cell_type": "code",
   "execution_count": 20,
   "id": "65d3fd6d",
   "metadata": {},
   "outputs": [
    {
     "data": {
      "text/plain": [
       "25.141513375624392"
      ]
     },
     "execution_count": 20,
     "metadata": {},
     "output_type": "execute_result"
    }
   ],
   "source": [
    "ratio_area"
   ]
  },
  {
   "cell_type": "code",
   "execution_count": 46,
   "id": "8ef5dff8",
   "metadata": {},
   "outputs": [],
   "source": [
    "connexion.close()"
   ]
  },
  {
   "cell_type": "markdown",
   "id": "60f7972d",
   "metadata": {},
   "source": [
    "# Requête:\n",
    "\n",
    "Calculer le **ratio** de la surface terrestre total sur la surface totale des océans appartenant aux pays  de la table facts.\n",
    " \n",
    "**Infos:**\n",
    "\n",
    "**area_water** = surface des océans\n",
    "**area_land** = surface des terres"
   ]
  },
  {
   "cell_type": "code",
   "execution_count": 13,
   "id": "f070ddca",
   "metadata": {},
   "outputs": [
    {
     "data": {
      "text/html": [
       "<div>\n",
       "<style scoped>\n",
       "    .dataframe tbody tr th:only-of-type {\n",
       "        vertical-align: middle;\n",
       "    }\n",
       "\n",
       "    .dataframe tbody tr th {\n",
       "        vertical-align: top;\n",
       "    }\n",
       "\n",
       "    .dataframe thead th {\n",
       "        text-align: right;\n",
       "    }\n",
       "</style>\n",
       "<table border=\"1\" class=\"dataframe\">\n",
       "  <thead>\n",
       "    <tr style=\"text-align: right;\">\n",
       "      <th></th>\n",
       "      <th>sum(area_land)</th>\n",
       "      <th>sum(area_water)</th>\n",
       "    </tr>\n",
       "  </thead>\n",
       "  <tbody>\n",
       "    <tr>\n",
       "      <th>0</th>\n",
       "      <td>128584834</td>\n",
       "      <td>4529125</td>\n",
       "    </tr>\n",
       "  </tbody>\n",
       "</table>\n",
       "</div>"
      ],
      "text/plain": [
       "   sum(area_land)  sum(area_water)\n",
       "0       128584834          4529125"
      ]
     },
     "execution_count": 13,
     "metadata": {},
     "output_type": "execute_result"
    }
   ],
   "source": [
    "\"Calculer une estimation de la population en 2050\"\n",
    "connexion = sqlite3.connect(\"factbook.db\")\n",
    "data_2 = pd.read_sql_query(\"SELECT sum(area_land), sum(area_water) from facts WHERE area_land != ' ';\", con = connexion)\n",
    "data_2.head(2)"
   ]
  },
  {
   "cell_type": "code",
   "execution_count": 14,
   "id": "3172d4a6",
   "metadata": {},
   "outputs": [],
   "source": [
    "data = data[data['area_water']>0]"
   ]
  },
  {
   "cell_type": "markdown",
   "id": "ae16ea24",
   "metadata": {},
   "source": [
    "# Requête: \n",
    "Compter le nombre de valeurs non num en SQL sous python (Jupyter)"
   ]
  },
  {
   "cell_type": "code",
   "execution_count": 21,
   "id": "4f2efed9",
   "metadata": {},
   "outputs": [],
   "source": [
    "import sqlite3"
   ]
  },
  {
   "cell_type": "code",
   "execution_count": 22,
   "id": "c71a1a92",
   "metadata": {},
   "outputs": [],
   "source": [
    "connexion_sql =  sqlite3.connect(\"factbook.db\")"
   ]
  },
  {
   "cell_type": "code",
   "execution_count": 25,
   "id": "0c5188af",
   "metadata": {},
   "outputs": [
    {
     "data": {
      "text/html": [
       "<div>\n",
       "<style scoped>\n",
       "    .dataframe tbody tr th:only-of-type {\n",
       "        vertical-align: middle;\n",
       "    }\n",
       "\n",
       "    .dataframe tbody tr th {\n",
       "        vertical-align: top;\n",
       "    }\n",
       "\n",
       "    .dataframe thead th {\n",
       "        text-align: right;\n",
       "    }\n",
       "</style>\n",
       "<table border=\"1\" class=\"dataframe\">\n",
       "  <thead>\n",
       "    <tr style=\"text-align: right;\">\n",
       "      <th></th>\n",
       "      <th>id</th>\n",
       "      <th>code</th>\n",
       "      <th>name</th>\n",
       "      <th>area</th>\n",
       "      <th>area_land</th>\n",
       "      <th>area_water</th>\n",
       "      <th>population</th>\n",
       "      <th>population_growth</th>\n",
       "      <th>birth_rate</th>\n",
       "      <th>death_rate</th>\n",
       "      <th>migration_rate</th>\n",
       "      <th>created_at</th>\n",
       "      <th>updated_at</th>\n",
       "    </tr>\n",
       "  </thead>\n",
       "  <tbody>\n",
       "    <tr>\n",
       "      <th>0</th>\n",
       "      <td>1</td>\n",
       "      <td>af</td>\n",
       "      <td>Afghanistan</td>\n",
       "      <td>652230.0</td>\n",
       "      <td>652230.0</td>\n",
       "      <td>0.0</td>\n",
       "      <td>32564342.0</td>\n",
       "      <td>2.32</td>\n",
       "      <td>38.57</td>\n",
       "      <td>13.89</td>\n",
       "      <td>1.51</td>\n",
       "      <td>2015-11-01 13:19:49.461734</td>\n",
       "      <td>2015-11-01 13:19:49.461734</td>\n",
       "    </tr>\n",
       "    <tr>\n",
       "      <th>1</th>\n",
       "      <td>2</td>\n",
       "      <td>al</td>\n",
       "      <td>Albania</td>\n",
       "      <td>28748.0</td>\n",
       "      <td>27398.0</td>\n",
       "      <td>1350.0</td>\n",
       "      <td>3029278.0</td>\n",
       "      <td>0.30</td>\n",
       "      <td>12.92</td>\n",
       "      <td>6.58</td>\n",
       "      <td>3.30</td>\n",
       "      <td>2015-11-01 13:19:54.431082</td>\n",
       "      <td>2015-11-01 13:19:54.431082</td>\n",
       "    </tr>\n",
       "  </tbody>\n",
       "</table>\n",
       "</div>"
      ],
      "text/plain": [
       "   id code         name      area  area_land  area_water  population  \\\n",
       "0   1   af  Afghanistan  652230.0   652230.0         0.0  32564342.0   \n",
       "1   2   al      Albania   28748.0    27398.0      1350.0   3029278.0   \n",
       "\n",
       "   population_growth  birth_rate  death_rate  migration_rate  \\\n",
       "0               2.32       38.57       13.89            1.51   \n",
       "1               0.30       12.92        6.58            3.30   \n",
       "\n",
       "                   created_at                  updated_at  \n",
       "0  2015-11-01 13:19:49.461734  2015-11-01 13:19:49.461734  \n",
       "1  2015-11-01 13:19:54.431082  2015-11-01 13:19:54.431082  "
      ]
     },
     "execution_count": 25,
     "metadata": {},
     "output_type": "execute_result"
    }
   ],
   "source": [
    "data_sql = pd.read_sql_query(\"select * from facts ;\", con =connexion_sql )\n",
    "data_sql.head(2)"
   ]
  },
  {
   "cell_type": "code",
   "execution_count": 26,
   "id": "b7501c56",
   "metadata": {
    "scrolled": true
   },
   "outputs": [
    {
     "data": {
      "text/plain": [
       "id                   261\n",
       "code                 261\n",
       "name                 261\n",
       "area                 249\n",
       "area_land            246\n",
       "area_water           243\n",
       "population           242\n",
       "population_growth    236\n",
       "birth_rate           228\n",
       "death_rate           228\n",
       "migration_rate       223\n",
       "created_at           261\n",
       "updated_at           261\n",
       "dtype: int64"
      ]
     },
     "execution_count": 26,
     "metadata": {},
     "output_type": "execute_result"
    }
   ],
   "source": [
    "data_sql.notna().sum()"
   ]
  },
  {
   "cell_type": "code",
   "execution_count": 45,
   "id": "64a6c8fe",
   "metadata": {},
   "outputs": [],
   "source": [
    "connexion_sql.close()"
   ]
  },
  {
   "cell_type": "markdown",
   "id": "fb1d3aa6",
   "metadata": {},
   "source": [
    "# Autre façon de faire"
   ]
  },
  {
   "cell_type": "code",
   "execution_count": 27,
   "id": "a812c33e",
   "metadata": {},
   "outputs": [],
   "source": [
    "import sqlite3\n",
    "con_sql = sqlite3.connect(\"factbook.db\")"
   ]
  },
  {
   "cell_type": "code",
   "execution_count": 31,
   "id": "69914bea",
   "metadata": {},
   "outputs": [
    {
     "name": "stdout",
     "output_type": "stream",
     "text": [
      "228\n"
     ]
    }
   ],
   "source": [
    "data_count_sql = con_sql.execute(\"select count(birth_rate) from facts ;\").fetchall()\n",
    "print(data_count_sql[0][0])"
   ]
  },
  {
   "cell_type": "code",
   "execution_count": 44,
   "id": "e872c5d0",
   "metadata": {},
   "outputs": [],
   "source": [
    "con_sql.close()"
   ]
  },
  {
   "cell_type": "markdown",
   "id": "a30e9ef8",
   "metadata": {},
   "source": [
    "# Max et Min d'une colonne numerique en SQL"
   ]
  },
  {
   "cell_type": "code",
   "execution_count": 34,
   "id": "ccb876d1",
   "metadata": {},
   "outputs": [
    {
     "name": "stdout",
     "output_type": "stream",
     "text": [
      "[(45.45,)]\n",
      "------------------------------------------------------------\n",
      "45.45\n"
     ]
    }
   ],
   "source": [
    "import sqlite3\n",
    "con_sql_max = sqlite3.connect(\"factbook.db\")\n",
    "max_sql = con_sql_max.execute('SELECT max(birth_rate) from facts ;').fetchall()\n",
    "print(max_sql)\n",
    "print('-'*60)\n",
    "print(max_sql[0][0])"
   ]
  },
  {
   "cell_type": "markdown",
   "id": "353027b4",
   "metadata": {},
   "source": [
    "# Exercice:\n",
    "\n",
    "**1**. Utiliser lafonction **min** sur la colonne **population_growth**\n",
    "\n",
    "**2**.  Utiliser lafonction **max** sur la colonne **death_rate**"
   ]
  },
  {
   "cell_type": "code",
   "execution_count": 35,
   "id": "7a7f99e3",
   "metadata": {},
   "outputs": [
    {
     "name": "stdout",
     "output_type": "stream",
     "text": [
      "[(14.89,)]\n",
      "------------------------------------------------------------\n",
      "14.89\n"
     ]
    }
   ],
   "source": [
    "import sqlite3\n",
    "con_sql_max_death_rate = sqlite3.connect(\"factbook.db\")\n",
    "max_sqm_death = con_sql_max_death_rate.execute('SELECT max(death_rate) from facts ;').fetchall()\n",
    "print(max_sqm_death)\n",
    "print('-'*60)\n",
    "print(max_sqm_death[0][0])"
   ]
  },
  {
   "cell_type": "code",
   "execution_count": 40,
   "id": "fc465e67",
   "metadata": {},
   "outputs": [],
   "source": [
    "con_sql_max_death_rate.close()"
   ]
  },
  {
   "cell_type": "code",
   "execution_count": 36,
   "id": "6df516b1",
   "metadata": {},
   "outputs": [
    {
     "name": "stdout",
     "output_type": "stream",
     "text": [
      "[(0.0,)]\n",
      "------------------------------------------------------------\n",
      "0.0\n"
     ]
    }
   ],
   "source": [
    "import sqlite3\n",
    "con_sql_min_pop = sqlite3.connect(\"factbook.db\")\n",
    "min_sqm_pop = con_sql_min_pop.execute('SELECT min(population_growth) from facts ;').fetchall()\n",
    "print(min_sqm_pop)\n",
    "print('-'*60)\n",
    "print(min_sqm_pop[0][0])"
   ]
  },
  {
   "cell_type": "code",
   "execution_count": 41,
   "id": "28167b3c",
   "metadata": {},
   "outputs": [],
   "source": [
    "con_sql_min_pop.close()"
   ]
  },
  {
   "cell_type": "markdown",
   "id": "868f487c",
   "metadata": {},
   "source": [
    "# Exercice:\n",
    "\n",
    "**1**. Utiliser la fonction **sum** pour trouver le total de la colonne **area_land**\n",
    "\n",
    "**2**.  Utiliser la fonction **avg** pour trouver la **moyenne** de la colonne **area_water**"
   ]
  },
  {
   "cell_type": "code",
   "execution_count": 37,
   "id": "3547f926",
   "metadata": {},
   "outputs": [
    {
     "name": "stdout",
     "output_type": "stream",
     "text": [
      "[(128584834,)]\n",
      "------------------------------------------------------------\n",
      "128584834\n"
     ]
    }
   ],
   "source": [
    "import sqlite3\n",
    "con_sql_sum_area = sqlite3.connect(\"factbook.db\")\n",
    "sum_sql_area = con_sql_saum_area.execute('SELECT sum(area_land) from facts ;').fetchall()\n",
    "print(sum_sql_area)\n",
    "print('-'*60)\n",
    "print(sum_sql_area[0][0])"
   ]
  },
  {
   "cell_type": "code",
   "execution_count": 39,
   "id": "c32613f6",
   "metadata": {},
   "outputs": [
    {
     "name": "stdout",
     "output_type": "stream",
     "text": [
      "[(19067.59259259259,)]\n",
      "------------------------------------------------------------\n",
      "19067.59259259259\n"
     ]
    }
   ],
   "source": [
    "import sqlite3\n",
    "con_sql_moy_area_water = sqlite3.connect(\"factbook.db\")\n",
    "moy_sql_area_water = con_sql_moy_area_water.execute('SELECT avg(area_water) from facts ;').fetchall()\n",
    "print(moy_sql_area_water)\n",
    "print('-'*60)\n",
    "print(moy_sql_area_water[0][0])"
   ]
  },
  {
   "cell_type": "code",
   "execution_count": 42,
   "id": "802a2450",
   "metadata": {},
   "outputs": [],
   "source": [
    "con_sql_sum_area.close()"
   ]
  },
  {
   "cell_type": "code",
   "execution_count": 43,
   "id": "49d28054",
   "metadata": {},
   "outputs": [],
   "source": [
    "con_sql_moy_area_water.close()"
   ]
  },
  {
   "cell_type": "markdown",
   "id": "da89c52a",
   "metadata": {},
   "source": [
    "# Exercice: \n",
    "\n",
    "Ecrire une reqête qui calcule:\n",
    "\n",
    "- La **moyenne** de la colonne **population**\n",
    "\n",
    "- La **somme** de la colonne **popution**\n",
    "\n",
    "- Le **maximum** de la colonne **birth_rate**\n",
    "\n",
    "A faire sur DBBROWSER et Jypiter Notebook\n",
    "\n",
    "Afficher les 3 résultats que vous assignerez à trois variables différentes."
   ]
  },
  {
   "cell_type": "code",
   "execution_count": 86,
   "id": "54afe922",
   "metadata": {},
   "outputs": [],
   "source": [
    "import sqlite3\n",
    "connexion = sqlite3.connect(\"factbook.db\")\n",
    "data_fct = pd.read_sql_query(\"SELECT avg(population), sum(population), max(birth_rate) from facts;\", con =connexion )"
   ]
  },
  {
   "cell_type": "code",
   "execution_count": 53,
   "id": "f65287a8",
   "metadata": {},
   "outputs": [
    {
     "data": {
      "text/html": [
       "<div>\n",
       "<style scoped>\n",
       "    .dataframe tbody tr th:only-of-type {\n",
       "        vertical-align: middle;\n",
       "    }\n",
       "\n",
       "    .dataframe tbody tr th {\n",
       "        vertical-align: top;\n",
       "    }\n",
       "\n",
       "    .dataframe thead th {\n",
       "        text-align: right;\n",
       "    }\n",
       "</style>\n",
       "<table border=\"1\" class=\"dataframe\">\n",
       "  <thead>\n",
       "    <tr style=\"text-align: right;\">\n",
       "      <th></th>\n",
       "      <th>avg(population)</th>\n",
       "      <th>sum(population)</th>\n",
       "      <th>max(birth_rate)</th>\n",
       "    </tr>\n",
       "  </thead>\n",
       "  <tbody>\n",
       "    <tr>\n",
       "      <th>0</th>\n",
       "      <td>6.209493e+07</td>\n",
       "      <td>15026972654</td>\n",
       "      <td>45.45</td>\n",
       "    </tr>\n",
       "  </tbody>\n",
       "</table>\n",
       "</div>"
      ],
      "text/plain": [
       "   avg(population)  sum(population)  max(birth_rate)\n",
       "0     6.209493e+07      15026972654            45.45"
      ]
     },
     "execution_count": 53,
     "metadata": {},
     "output_type": "execute_result"
    }
   ],
   "source": [
    "data_fct.head()"
   ]
  },
  {
   "cell_type": "markdown",
   "id": "058b2b07",
   "metadata": {},
   "source": [
    "# Autre facon"
   ]
  },
  {
   "cell_type": "code",
   "execution_count": 74,
   "id": "5ea7ef94",
   "metadata": {},
   "outputs": [],
   "source": [
    "import sqlite3\n",
    "connexion = sqlite3.connect(\"factbook.db\")\n",
    "data_fct = connexion.execute(\"SELECT avg(population), sum(population), max(birth_rate) from facts;\").fetchall()"
   ]
  },
  {
   "cell_type": "code",
   "execution_count": 75,
   "id": "bc50ea0c",
   "metadata": {},
   "outputs": [],
   "source": [
    "moy = data_fct[0][0]\n",
    "sum_ = data_fct[0][1]\n",
    "max_ = data_fct[0][2]"
   ]
  },
  {
   "cell_type": "code",
   "execution_count": 80,
   "id": "e05a958b",
   "metadata": {},
   "outputs": [
    {
     "name": "stdout",
     "output_type": "stream",
     "text": [
      "La moyenne: 62094928.32231405, \n",
      "La somme est: 15026972654, \n",
      "Le maximum est: 45.45.\n"
     ]
    }
   ],
   "source": [
    "print(\"La moyenne: {}, \\nLa somme est: {}, \\nLe maximum est: {}.\" .format(moy, sum_, max_))"
   ]
  },
  {
   "cell_type": "markdown",
   "id": "e70b6fbc",
   "metadata": {},
   "source": [
    "# Exercice: \n",
    "\n",
    "Ecrire une requête qui calcule:\n",
    "\n",
    "La **moyenne** de la colonne **population_growth** pour les oays ayant une pop sup à **10 000 000**\n",
    "\n",
    "A faire sur DBBROWSER et Jypiter Notebook"
   ]
  },
  {
   "cell_type": "code",
   "execution_count": 84,
   "id": "37953796",
   "metadata": {},
   "outputs": [
    {
     "name": "stdout",
     "output_type": "stream",
     "text": [
      "1.4572222222222226\n"
     ]
    }
   ],
   "source": [
    "import sqlite3\n",
    "connexion =  sqlite3.connect(\"factbook.db\")\n",
    "data_2 =  connexion.execute(\"SELECT avg(population_growth) from facts where  population > 10000000 ;\").fetchall()\n",
    "print(data_2[0][0])"
   ]
  },
  {
   "cell_type": "code",
   "execution_count": 85,
   "id": "55d83067",
   "metadata": {},
   "outputs": [
    {
     "name": "stdout",
     "output_type": "stream",
     "text": [
      "[(38.57,), (12.92,), (23.67,), (8.13,), (38.78,), (15.85,), (16.64,), (13.61,), (12.15,), (9.41,), (15.5,), (13.66,), (21.14,), (11.87,), (10.7,), (11.41,), (24.68,), (36.02,), (17.78,), (22.76,), (8.87,), (20.96,), (14.46,), (17.32,), (8.92,), (42.03,), (18.39,), (42.01,), (23.83,), (36.17,), (10.28,), (20.33,), (35.08,), (36.6,), (13.83,), (12.49,), (16.47,), (27.84,), (34.88,), (35.85,), (15.91,), (28.67,), (9.45,), (9.9,), (9.63,), (10.27,), (23.65,), (15.41,), (18.73,), (18.51,), (22.9,), (16.46,), (33.31,), (30.0,), (10.51,), (37.27,), (19.43,), (10.72,), (12.38,), (34.49,), (30.86,), (12.74,), (8.47,), (31.09,), (8.66,), (16.03,), (24.89,), (35.74,), (33.38,), (15.59,), (22.31,), (23.14,), (9.16,), (13.91,), (19.55,), (16.72,), (17.99,), (31.45,), (14.84,), (18.48,), (8.74,), (18.16,), (7.93,), (25.37,), (19.15,), (26.4,), (21.46,), (14.52,), (8.19,), (None,), (19.91,), (22.98,), (24.25,), (10.0,), (14.59,), (25.47,), (34.41,), (18.03,), (10.45,), (10.1,), (11.37,), (11.55,), (32.61,), (41.56,), (19.71,), (15.75,), (44.99,), (10.18,), (25.6,), (31.34,), (13.29,), (18.78,), (20.54,), (12.0,), (6.65,), (20.25,), (10.42,), (18.2,), (38.58,), (19.8,), (24.95,), (20.64,), (10.83,), (13.33,), (45.45,), (37.64,), (12.14,), (24.44,), (22.58,), (11.05,), (18.32,), (24.38,), (16.37,), (18.28,), (24.27,), (9.74,), (9.27,), (9.84,), (9.14,), (11.6,), (33.75,), (13.5,), (13.7,), (13.57,), (20.87,), (8.63,), (34.23,), (34.52,), (9.08,), (14.19,), (37.03,), (8.27,), (9.91,), (8.42,), (25.77,), (40.45,), (20.75,), (36.91,), (9.64,), (29.19,), (16.34,), (24.67,), (11.99,), (10.5,), (22.17,), (36.39,), (11.19,), (34.16,), (34.13,), (23.0,), (13.46,), (16.33,), (19.4,), (23.74,), (43.79,), (15.43,), (12.17,), (13.07,), (17.0,), (25.04,), (19.16,), (15.96,), (29.98,), (42.13,), (32.26,), (10.2,), (9.23,), (8.88,), (13.77,), (14.48,), (15.22,), (15.33,), (7.42,), (13.45,), (12.56,), (13.8,), (13.0,), (14.33,), (12.67,), (11.33,), (10.91,), (12.11,), (10.9,), (14.08,), (11.91,), (11.1,), (11.26,), (9.88,), (16.13,), (22.89,), (16.82,), (10.86,), (10.31,), (31.11,), (22.99,), (30.24,), (18.6,)]\n"
     ]
    }
   ],
   "source": [
    "connexion =  sqlite3.connect(\"factbook.db\")\n",
    "data_3 =  connexion.execute(\"SELECT DISTINCT birth_rate from facts;\").fetchall()\n",
    "print(data_3)"
   ]
  },
  {
   "cell_type": "markdown",
   "id": "e9861202",
   "metadata": {},
   "source": [
    "# Exercice: \n",
    "\n",
    "Ecrire une requête qui calcule:\n",
    "\n",
    "-  **moyenne** des valeurs distinctes de la colonne **birth_rate** pour laquelle **population** est plus grande que **20 millions**\n",
    "\n",
    "- La **somme** de toutes les valeus distinctes de la colonne **popution** pour laquelle **area_land** est plus grande que **1.000.000**\n",
    "\n",
    "A faire sur DBBROWSER et Jypiter Notebook\n",
    "\n",
    "Afficher les 3 résultats que vous assignerez à trois variables différentes."
   ]
  },
  {
   "cell_type": "code",
   "execution_count": 88,
   "id": "a926a3f7",
   "metadata": {},
   "outputs": [
    {
     "name": "stdout",
     "output_type": "stream",
     "text": [
      "20.43473684210527\n"
     ]
    }
   ],
   "source": [
    "import sqlite3\n",
    "con = sqlite3.connect(\"factbook.db\")\n",
    "data_4 = con.execute(\"SELECT avg(distinct birth_rate) from facts WHERE (population > 20000000);\").fetchall()\n",
    "print(data_4[0][0])"
   ]
  },
  {
   "cell_type": "code",
   "execution_count": 89,
   "id": "ff89d6a3",
   "metadata": {},
   "outputs": [
    {
     "name": "stdout",
     "output_type": "stream",
     "text": [
      "4233873015\n"
     ]
    }
   ],
   "source": [
    "import sqlite3\n",
    "con = sqlite3.connect(\"factbook.db\")\n",
    "data_5 = con.execute(\"SELECT  sum(distinct population) from facts WHERE (area_land > 1000000);\").fetchall()\n",
    "print(data_5[0][0])"
   ]
  },
  {
   "cell_type": "markdown",
   "id": "dbe21b3d",
   "metadata": {},
   "source": [
    "# Exercice :\n",
    "\n",
    "Afficher les valeurs de la **population_growth** en millions (dec)\n",
    "\n",
    "sur DBBROWSER et Jypiter"
   ]
  },
  {
   "cell_type": "code",
   "execution_count": 91,
   "id": "502d9c82",
   "metadata": {},
   "outputs": [
    {
     "name": "stdout",
     "output_type": "stream",
     "text": [
      "[(2.32e-06,), (3e-07,), (1.8400000000000002e-06,), (1.2e-07,), (2.7799999999999996e-06,), (1.24e-06,), (9.300000000000001e-07,), (1.5e-07,), (1.0700000000000001e-06,), (5.5e-07,), (9.6e-07,), (8.5e-07,), (2.4100000000000002e-06,), (1.6000000000000001e-06,), (3.1e-07,), (2.0000000000000002e-07,), (7.6e-07,), (1.87e-06,), (2.7799999999999996e-06,), (1.1100000000000002e-06,), (1.56e-06,), (1.3e-07,), (1.21e-06,), (7.7e-07,), (1.6200000000000002e-06,), (5.8e-07,), (3.03e-06,), (1.01e-06,), (3.28e-06,), (1.5800000000000001e-06,), (2.5899999999999998e-06,), (7.5e-07,), (1.3600000000000001e-06,), (2.13e-06,), (1.89e-06,), (8.2e-07,), (4.5000000000000003e-07,), (1.04e-06,), (1.77e-06,), (2.4500000000000003e-06,), (2e-06,), (1.22e-06,), (1.91e-06,), (1.3e-07,), (1.5e-07,), (1.4299999999999999e-06,), (1.6e-07,), (2.2e-07,), (2.2e-06,), (2.1e-07,), (1.23e-06,), (1.35e-06,), (1.79e-06,), (2.5e-07,), (2.5099999999999997e-06,), (2.25e-06,), (5.5e-07,), (2.8900000000000003e-06,), (6.7e-07,), (4.0000000000000003e-07,), (4.3e-07,), (1.9299999999999997e-06,), (2.16e-06,), (8e-08,), (1.7000000000000001e-07,), (2.1800000000000003e-06,), (1e-08,), (4.8e-07,), (1.8200000000000002e-06,), (2.63e-06,), (1.91e-06,), (2e-08,), (1.17e-06,), (1.68e-06,), (2.2e-07,), (1.21e-06,), (1.22e-06,), (9.200000000000001e-07,), (1.2e-06,), (2.9300000000000003e-06,), (1.25e-06,), (1.56e-06,), (2.7e-07,), (6.800000000000001e-07,), (1.6e-07,), (8.3e-07,), (1.1399999999999999e-06,), (1.9299999999999997e-06,), (1.15e-06,), (5.3e-07,), (1.4e-07,), (None,), (1.6200000000000002e-06,), (1.1100000000000002e-06,), (1.55e-06,), (1.06e-06,), (8.6e-07,), (3.2e-07,), (2.47e-06,), (2.23e-06,), (8.4e-07,), (1.04e-06,), (2.13e-06,), (2.0000000000000002e-07,), (2.58e-06,), (3.32e-06,), (1.44e-06,), (8e-08,), (2.98e-06,), (3.1e-07,), (1.66e-06,), (2.23e-06,), (6.4e-07,), (1.18e-06,), (4.6000000000000004e-07,), (1.03e-06,), (1.2e-07,), (1.31e-06,), (4.2e-07,), (1e-06,), (2.4500000000000003e-06,), (5.9e-07,), (5.5e-07,), (1.79e-06,), (4.1e-07,), (8.2e-07,), (1e-06,), (3.25e-06,), (2.4500000000000003e-06,), (1.13e-06,), (2.0699999999999997e-06,), (1.46e-06,), (3.8e-07,), (1.32e-06,), (1.7800000000000001e-06,), (1.16e-06,), (9.7e-07,), (1.61e-06,), (9e-08,), (9e-08,), (3.07e-06,), (3e-07,), (4e-08,), (2.56e-06,), (7.6e-07,), (3.4000000000000003e-07,), (2.8e-07,), (5.8e-07,), (8.2e-07,), (1.8400000000000002e-06,), (1.46e-06,), (2.4500000000000003e-06,), (4.6000000000000004e-07,), (8.3e-07,), (2.35e-06,), (1.89e-06,), (2e-08,), (2.6e-07,), (2.02e-06,), (1.83e-06,), (1.33e-06,), (4.02e-06,), (8.900000000000001e-07,), (8.4e-07,), (1.72e-06,), (1.08e-06,), (1.1100000000000002e-06,), (8.000000000000001e-07,), (7.1e-07,), (1.6e-07,), (1.71e-06,), (2.79e-06,), (3.4000000000000003e-07,), (2.42e-06,), (2.69e-06,), (3e-08,), (1.3e-07,), (8.900000000000001e-07,), (1.26e-06,), (1.1399999999999999e-06,), (8.2e-07,), (3.2400000000000003e-06,), (6e-07,), (2.58e-06,), (5.4e-07,), (7.8e-07,), (2.7e-07,), (9.300000000000001e-07,), (1.95e-06,), (0.0,), (1.3899999999999998e-06,), (9.7e-07,), (2.47e-06,), (2.88e-06,), (2.21e-06,), (2.3000000000000002e-07,), (2.5e-07,), (None,), (1.1100000000000002e-06,), (0.0,), (None,), (None,), (1e-08,), (3.8e-07,), (8.000000000000001e-07,), (5.1e-07,), (0.0,), (None,), (9.399999999999999e-07,), (None,), (1.38e-06,), (None,), (None,), (1.08e-06,), (3.3e-07,), (1.33e-06,), (4.3e-07,), (1.51e-06,), (2.95e-06,), (3e-08,), (1e-08,), (None,), (None,), (3e-08,), (None,), (2.0299999999999996e-06,), (5e-07,), (None,), (2.32e-06,), (2.1000000000000002e-06,), (None,), (1e-08,), (2.4e-07,), (3.4000000000000003e-07,), (8.000000000000001e-07,), (7.6e-07,), (5e-07,), (0.0,), (2.4e-07,), (None,), (2.3e-06,), (3e-07,), (5.4e-07,), (None,), (2.1800000000000003e-06,), (6e-07,), (5.9e-07,), (None,), (None,), (None,), (2.81e-06,), (None,), (None,), (1.95e-06,), (2.8199999999999997e-06,), (None,), (None,), (None,), (None,), (None,), (1.08e-06,)]\n"
     ]
    }
   ],
   "source": [
    "import sqlite3\n",
    "con = sqlite3.connect(\"factbook.db\")\n",
    "data_6 = con.execute(\"SELECT (population_growth/1000000) from facts;\").fetchall()\n",
    "print(data_6)"
   ]
  },
  {
   "cell_type": "markdown",
   "id": "376ffb41",
   "metadata": {},
   "source": [
    "# Requête: \n",
    "\n",
    "Ecrire une requête qui calcule, pour chaque pays:\n",
    "\n",
    "-  **Le nombre dhabitant** qu'il aura l'année suivante\n",
    "\n",
    "A faire sur DBBROWSER et Jypiter Notebook\n",
    "\n",
    "**NB**: Multiplier les colonne pop et population_growth + population"
   ]
  },
  {
   "cell_type": "markdown",
   "id": "4497a9eb",
   "metadata": {},
   "source": [
    "### 1ière methode:"
   ]
  },
  {
   "cell_type": "code",
   "execution_count": 93,
   "id": "c6b1aca2",
   "metadata": {},
   "outputs": [
    {
     "name": "stdout",
     "output_type": "stream",
     "text": [
      "[(108113615.44,), (3938061.4,), (112299751.44,), (95849.6,), (74183834.34,), (207056.64,), (83823539.98,), (3514839.3,), (47094598.980000004,), (13431602.5,), (19170328.799999997,), (600504.45,), (4591950.33,), (439290137.0,), (380691.24,), (11507626.8,), (19930192.48,), (996949.03,), (39495885.66,), (1565449.09,), (27650257.92,), (4369772.15,), (4823808.99,), (361539867.24,), (1125672.52,), (11355290.94,), (76294694.58,), (113203614.06,), (45976941.28,), (40528590.480000004,), (85223792.62,), (61424713.0,), (1288543.48,), (16875517.07,), (33614907.84,), (31865033.2,), (1982853812.6,), (95342925.12,), (2163289.67,), (273844219.20000005,), (14265291.0,), (10687399.68,), (67789328.82,), (5045273.72,), (12686147.95,), (2889748.71,), (12348016.72,), (6809433.66,), (2650636.8,), (89064.47,), (23367625.88,), (37290730.6,), (246879834.84,), (7676687.5,), (2600007.9299999997,), (21214989.25,), (1961401.0,), (386922035.91,), (1518679.63,), (7667690.800000001,), (95171885.38,), (4996634.48,), (6217960.44,), (5325724.08,), (94599657.36,), (83721923.82000001,), (10883399.43,), (163827.12,), (42071577.18,), (42761988.06,), (5023154.699999999,), (749926.44,), (21938741.229999997,), (23441083.64,), (12075000.02,), (733538.78,), (2778764196.48,), (491507854.08000004,), (180013394.0,), (145630744.17000002,), (11007686.25,), (20606243.84,), (78556002.4,), (4956352.8,), (147226804.44,), (14855142.120000001,), (38856241.08,), (134561131.93,), (227278.65,), (38224303.65,), (55991323.44,), (None,), (7305959.08,), (11953021.290000001,), (17624437.200000003,), (4092612.3000000003,), (11503543.86,), (2570965.3200000003,), (14558961.020000001,), (20710036.48,), (69228.16,), (5884243.32,), (1784888.76,), (2515218.0,), (85249397.98,), (77607491.03999999,), (74453789.12,), (424713.24,), (67483033.28,), (542294.15,), (192028.06,), (11617347.46,), (2197316.2800000003,), (265386243.62,), (153615.36,), (7200099.41,), (34199.2,), (6913617.48,), (918843.6599999999,), (66645398.0,), (87295739.85,), (3517568.13,), (14787.0,), (88028140.95,), (23896544.64,), (8077875.26,), (11815762.0,), (76694348.25,), (626389093.2,), (11092377.57,), (10090893.52,), (489751183.62,), (29345.7,), (8484295.68,), (18549352.62,), (14651867.52,), (59976648.03,), (263605761.36,), (42032786.01,), (11799586.81,), (8932905.19,), (28166255.0,), (148120723.92,), (45075769.480000004,), (91407.36,), (219655.48,), (131362.56,), (312481.33999999997,), (60096.399999999994,), (550977.04,), (68270697.36,), (48216627.300000004,), (10478119.24,), (169146.9,), (19694978.3,), (16399224.08,), (5553927.54,), (2499099.12,), (1879856.3800000001,), (30044355.400000002,), (125064061.79,), (60455408.199999996,), (90996193.25999999,), (40578417.92,), (98216080.16,), (1205636.6400000001,), (3029143.43,), (17642908.8,), (13888329.3,), (19795230.64,), (22200206.18,), (193463892.78,), (91088382.7,), (4210416.72,), (27868053.419999998,), (109696.03,), (1381270.19,), (20860355.25,), (179476247.94,), (11195243.079999998,), (19781.58,), (157311398.8,), (71087153.6,), (20691540.8,), (98695861.88,), (572036577.9200001,), (4244204.11,), (56355888.06,), (803178.7999999999,), (842.0,), (69968349.4,), (185867204.95,), (92778489.99000001,), (58457112.08,), (45676826.61,), (28800604.98,), (642436806.25,), (None,), (3228.3,), (596.0,), (None,), (None,), (2232.1,), (9854726.280000001,), (1066915.8,), (75795.95999999999,), (57733.0,), (None,), (548443.8200000001,), (None,), (646443.7,), (None,), (None,), (11766.560000000001,), (20765.29,), (261337.46000000002,), (212220.58000000002,), (99619.39,), (38860.100000000006,), (1225.7,), (1350.37,), (None,), (None,), (1928.16,), (None,), (49746.53999999999,), (105294.0,), (None,), (111067.28,), (173885.2,), (None,), (3394.61,), (36279.92,), (88547.2,), (175129.2,), (154079.2,), (7861.5,), (48.0,), (9665.8,), (None,), (165924.0,), (70645.9,), (249148.90000000002,), (None,), (166453.92,), (5757371.199999999,), (164682.66,), (None,), (None,), (None,), (7121099.55,), (None,), (None,), (8216829.7,), (2180708.12,), (None,), (None,), (None,), (None,), (None,), (15093499222.880001,)]\n"
     ]
    }
   ],
   "source": [
    "import sqlite3\n",
    "con = sqlite3.connect(\"factbook.db\")\n",
    "data_7 = con.execute(\"select (population*population_growth) + population from facts;\").fetchall()\n",
    "print(data_7)"
   ]
  },
  {
   "cell_type": "markdown",
   "id": "9681830b",
   "metadata": {},
   "source": [
    "# Deuxième methode"
   ]
  },
  {
   "cell_type": "code",
   "execution_count": 98,
   "id": "643f328d",
   "metadata": {},
   "outputs": [],
   "source": [
    "con = sqlite3.connect('factbook.db')\n",
    "data_8 =pd.read_sql_query( \"select name , (population*population_growth) + population from facts;\",con = con )"
   ]
  },
  {
   "cell_type": "code",
   "execution_count": 100,
   "id": "6667944a",
   "metadata": {},
   "outputs": [
    {
     "data": {
      "text/html": [
       "<div>\n",
       "<style scoped>\n",
       "    .dataframe tbody tr th:only-of-type {\n",
       "        vertical-align: middle;\n",
       "    }\n",
       "\n",
       "    .dataframe tbody tr th {\n",
       "        vertical-align: top;\n",
       "    }\n",
       "\n",
       "    .dataframe thead th {\n",
       "        text-align: right;\n",
       "    }\n",
       "</style>\n",
       "<table border=\"1\" class=\"dataframe\">\n",
       "  <thead>\n",
       "    <tr style=\"text-align: right;\">\n",
       "      <th></th>\n",
       "      <th>name</th>\n",
       "      <th>(population*population_growth) + population</th>\n",
       "    </tr>\n",
       "  </thead>\n",
       "  <tbody>\n",
       "    <tr>\n",
       "      <th>0</th>\n",
       "      <td>Afghanistan</td>\n",
       "      <td>1.081136e+08</td>\n",
       "    </tr>\n",
       "    <tr>\n",
       "      <th>1</th>\n",
       "      <td>Albania</td>\n",
       "      <td>3.938061e+06</td>\n",
       "    </tr>\n",
       "    <tr>\n",
       "      <th>2</th>\n",
       "      <td>Algeria</td>\n",
       "      <td>1.122998e+08</td>\n",
       "    </tr>\n",
       "    <tr>\n",
       "      <th>3</th>\n",
       "      <td>Andorra</td>\n",
       "      <td>9.584960e+04</td>\n",
       "    </tr>\n",
       "    <tr>\n",
       "      <th>4</th>\n",
       "      <td>Angola</td>\n",
       "      <td>7.418383e+07</td>\n",
       "    </tr>\n",
       "    <tr>\n",
       "      <th>5</th>\n",
       "      <td>Antigua and Barbuda</td>\n",
       "      <td>2.070566e+05</td>\n",
       "    </tr>\n",
       "    <tr>\n",
       "      <th>6</th>\n",
       "      <td>Argentina</td>\n",
       "      <td>8.382354e+07</td>\n",
       "    </tr>\n",
       "    <tr>\n",
       "      <th>7</th>\n",
       "      <td>Armenia</td>\n",
       "      <td>3.514839e+06</td>\n",
       "    </tr>\n",
       "    <tr>\n",
       "      <th>8</th>\n",
       "      <td>Australia</td>\n",
       "      <td>4.709460e+07</td>\n",
       "    </tr>\n",
       "  </tbody>\n",
       "</table>\n",
       "</div>"
      ],
      "text/plain": [
       "                  name  (population*population_growth) + population\n",
       "0          Afghanistan                                 1.081136e+08\n",
       "1              Albania                                 3.938061e+06\n",
       "2              Algeria                                 1.122998e+08\n",
       "3              Andorra                                 9.584960e+04\n",
       "4               Angola                                 7.418383e+07\n",
       "5  Antigua and Barbuda                                 2.070566e+05\n",
       "6            Argentina                                 8.382354e+07\n",
       "7              Armenia                                 3.514839e+06\n",
       "8            Australia                                 4.709460e+07"
      ]
     },
     "execution_count": 100,
     "metadata": {},
     "output_type": "execute_result"
    }
   ],
   "source": [
    "data_8.head(9)"
   ]
  },
  {
   "cell_type": "markdown",
   "id": "31fe2413",
   "metadata": {},
   "source": [
    "## Requête:\n",
    "\n",
    "### Calcul de moyennne: Calcul de moyenne sur la table fact de la base de données factbook.db\n",
    "- En SQL, calculer les **moyennes** des colonnes, **Population, Population_growth, Birth_rate et death_rate** \n",
    "puis en python executer cette requête SQL\n",
    "\n",
    "- Recupérer les résultats dans les variables: pop_avg, pop_growth_avg, birth_rate_avg et death_rate_avg  et les afficher"
   ]
  },
  {
   "cell_type": "code",
   "execution_count": 11,
   "id": "daaf74ec",
   "metadata": {},
   "outputs": [],
   "source": [
    "import sqlite3\n",
    "import pandas as pd\n",
    "connexion =  sqlite3.connect(\"factbook.db\")\n",
    "data_8 = pd.read_sql_query('SELECT round(avg(Population), 2) as pop_avg, round(avg(Population_growth),2) as pop_growth_avg,round(avg(birth_rate), 2) as birth_rate_avg, round(avg(death_rate), 2) as death_rate_avg from facts;',\n",
    "                          con  = connexion)"
   ]
  },
  {
   "cell_type": "code",
   "execution_count": 12,
   "id": "146cc5bd",
   "metadata": {},
   "outputs": [
    {
     "data": {
      "text/html": [
       "<div>\n",
       "<style scoped>\n",
       "    .dataframe tbody tr th:only-of-type {\n",
       "        vertical-align: middle;\n",
       "    }\n",
       "\n",
       "    .dataframe tbody tr th {\n",
       "        vertical-align: top;\n",
       "    }\n",
       "\n",
       "    .dataframe thead th {\n",
       "        text-align: right;\n",
       "    }\n",
       "</style>\n",
       "<table border=\"1\" class=\"dataframe\">\n",
       "  <thead>\n",
       "    <tr style=\"text-align: right;\">\n",
       "      <th></th>\n",
       "      <th>pop_avg</th>\n",
       "      <th>pop_growth_avg</th>\n",
       "      <th>birth_rate_avg</th>\n",
       "      <th>death_rate_avg</th>\n",
       "    </tr>\n",
       "  </thead>\n",
       "  <tbody>\n",
       "    <tr>\n",
       "      <th>0</th>\n",
       "      <td>62094928.32</td>\n",
       "      <td>1.2</td>\n",
       "      <td>19.33</td>\n",
       "      <td>7.82</td>\n",
       "    </tr>\n",
       "  </tbody>\n",
       "</table>\n",
       "</div>"
      ],
      "text/plain": [
       "       pop_avg  pop_growth_avg  birth_rate_avg  death_rate_avg\n",
       "0  62094928.32             1.2           19.33            7.82"
      ]
     },
     "execution_count": 12,
     "metadata": {},
     "output_type": "execute_result"
    }
   ],
   "source": [
    "data_8.head()"
   ]
  },
  {
   "cell_type": "code",
   "execution_count": 13,
   "id": "fc0c32ff",
   "metadata": {},
   "outputs": [],
   "source": [
    "import sqlite3\n",
    "connexion =  sqlite3.connect(\"factbook.db\")\n",
    "data_9 = connexion.execute('SELECT round(avg(Population), 2) as pop_avg, round(avg(Population_growth),2) as pop_growth_avg,round(avg(birth_rate), 2) as birth_rate_avg, round(avg(death_rate), 2) as death_rate_avg from facts;').fetchall()"
   ]
  },
  {
   "cell_type": "code",
   "execution_count": 14,
   "id": "50a41f56",
   "metadata": {},
   "outputs": [
    {
     "name": "stdout",
     "output_type": "stream",
     "text": [
      "[(62094928.32, 1.2, 19.33, 7.82)]\n"
     ]
    }
   ],
   "source": [
    "print(data_9)"
   ]
  },
  {
   "cell_type": "code",
   "execution_count": 18,
   "id": "840a0eea",
   "metadata": {},
   "outputs": [
    {
     "name": "stdout",
     "output_type": "stream",
     "text": [
      "La population moyenne est : 62094928.32, \n",
      "La population_growth moyenne est: 1.2, \n",
      "La birth_rate moyenne est: 19.33 et,\n",
      "La death_rate moyenne est: 7.82 \n"
     ]
    }
   ],
   "source": [
    "pop_avg = data_9[0][0]\n",
    "pop_growth_avg = data_9[0][1]\n",
    "birth_rate_avg = data_9[0][2]\n",
    "death_rate_avg = data_9[0][3]\n",
    "\n",
    "print(\"La population moyenne est : {}, \\nLa population_growth moyenne est: {}, \\nLa birth_rate moyenne est: {} et,\\nLa death_rate moyenne est: {} \" .format(pop_avg,pop_growth_avg,birth_rate_avg, death_rate_avg))"
   ]
  },
  {
   "cell_type": "markdown",
   "id": "6f5db755",
   "metadata": {},
   "source": [
    "## Exercice 52: Calcul de Max et min :\n",
    "#### Calcul de de caleurs min et max sur la table fact de la base de données factbook.db\n",
    "* En SQL, calculer les les valeus minimums et maximums  des colonnes, Population, Population_growth, Birth_rate et death_rate (2 requête SQL bien choisie).\n",
    "\n",
    "* Recupérer les résultats dans les variables: pop_min,pop_max, pop_growth_min, pop_growth_max,  birth_rate_min, birth_rate_max, death_rate_min et death_rate_max  et les afficher\n",
    "\n"
   ]
  },
  {
   "cell_type": "code",
   "execution_count": 30,
   "id": "b60a050c",
   "metadata": {},
   "outputs": [],
   "source": [
    " min_max_sql = 'SELECT min(Population), max(Population) , min(Population_growth), max(Population_growth), min(birth_rate), max(birth_rate) ,min(death_rate), max(death_rate) from facts;'"
   ]
  },
  {
   "cell_type": "code",
   "execution_count": 31,
   "id": "42db85db",
   "metadata": {},
   "outputs": [],
   "source": [
    "import sqlite3\n",
    "connexion =  sqlite3.connect(\"factbook.db\")\n",
    "data_10 = connexion.execute(min_max_sql).fetchall()"
   ]
  },
  {
   "cell_type": "code",
   "execution_count": 32,
   "id": "fdd54d8e",
   "metadata": {},
   "outputs": [
    {
     "name": "stdout",
     "output_type": "stream",
     "text": [
      "[(0, 7256490011, 0.0, 4.02, 6.65, 45.45, 1.53, 14.89)]\n"
     ]
    }
   ],
   "source": [
    "print(data_10)"
   ]
  },
  {
   "cell_type": "code",
   "execution_count": 33,
   "id": "96a3d2ae",
   "metadata": {},
   "outputs": [
    {
     "name": "stdout",
     "output_type": "stream",
     "text": [
      "0\n",
      "7256490011\n",
      "0.0\n",
      "4.02\n",
      "6.65\n",
      "45.45\n",
      "1.53\n",
      "14.89\n"
     ]
    }
   ],
   "source": [
    "pop_min = data_10[0][0]\n",
    "pop_max = data_10[0][1]\n",
    "pop_growth_min = data_10[0][2]\n",
    "pop_growth_max = data_10[0][3]\n",
    "birth_rate_min = data_10[0][4]\n",
    "birth_rate_max = data_10[0][5]\n",
    "death_rate_min = data_10[0][6]\n",
    "death_rate_max = data_10[0][7]\n",
    "print(pop_min)\n",
    "print(pop_max)\n",
    "print(pop_growth_min)\n",
    "print(pop_growth_max)\n",
    "print(birth_rate_min)\n",
    "print(birth_rate_max)\n",
    "print(death_rate_min)\n",
    "print(death_rate_max)"
   ]
  },
  {
   "cell_type": "markdown",
   "id": "53b73341",
   "metadata": {},
   "source": [
    "## Exercice : Prédire la future croissance démographique\n",
    "\n",
    "* Retourner les valeurs de la croissance estimées l'année suivante en prenant en compte les remarques suivantes:\n",
    "\n",
    "    - Arrondir les valeurs à l'entier près (Valeurs non décimales)\n",
    "    - Filtrer les lignes qui contiennent des valeurs NULL, comme valeurs pour les colonnes population ou \n",
    "    - population_growth (population is not null)\n",
    "    - restrindre la requête aux pays ayant une population inférieur à 7 milliards,  et supérieure à 0\n",
    "    \n",
    "* Asigner le resultats à la variable projected_population\n",
    "\n",
    "* Afficher les 10 premieres valeurs du résultats\n",
    "\n",
    "### Rappel : Projected_population =  population*(1 + population_growth/100)"
   ]
  },
  {
   "cell_type": "code",
   "execution_count": 43,
   "id": "e484a925",
   "metadata": {},
   "outputs": [],
   "source": [
    "pop_proj = \"SELECT  round(population*(1 + population_growth/100), 0)  from facts where (Population  < 7000000000) and (population > 0)  and population is not null and population_growth is not null  LIMIT 10 ;\"\n",
    "import sqlite3\n",
    "connexion =  sqlite3.connect(\"factbook.db\")\n",
    "data_11 = connexion.execute(pop_proj).fetchall()"
   ]
  },
  {
   "cell_type": "code",
   "execution_count": 44,
   "id": "3ca7191c",
   "metadata": {},
   "outputs": [
    {
     "name": "stdout",
     "output_type": "stream",
     "text": [
      "[(33319835.0,), (3038366.0,), (40269742.0,), (85683.0,), (20170938.0,), (93582.0,), (43835803.0,), (3060967.0,), (22994450.0,), (8713211.0,)]\n"
     ]
    }
   ],
   "source": [
    "print(data_11)"
   ]
  },
  {
   "cell_type": "markdown",
   "id": "3686486a",
   "metadata": {},
   "source": [
    "## Requête : Explorer pus d'estimation demographique\n",
    "\n",
    "Dernière mission du challenge 2: \n",
    "\n",
    "* Ecrire une requête qui retourne:\n",
    "\n",
    "    * La valeur **min** de l'estimation de la population etl'assigner à la variable proj_pop_min\n",
    "    * La valeur **max** de l'estimation de la population etl'assigner à la variable proj_pop_max\n",
    "    * La valeur **moyenne** de l'estimation de la population etl'assigner à la variable proj_pop_avg\n",
    "    \n",
    "* Afficher les résultats\n"
   ]
  },
  {
   "cell_type": "code",
   "execution_count": 48,
   "id": "09788f93",
   "metadata": {},
   "outputs": [],
   "source": [
    "import sqlite3\n",
    "con_demo =  sqlite3.connect(\"factbook.db\")\n",
    "min_max_avg_pop_proj =  \"SELECT  round(min(population*(1 + population_growth/100)), 2),  round(max(population*(1 + population_growth/100)),2), round(avg(population*(1 + population_growth/100)), 2) from facts where (Population  < 7000000000) and (population > 0) and population_growth is not null and population is not null;\"\n",
    "data_11 = con_demo.execute(min_max_avg_pop_proj).fetchall()"
   ]
  },
  {
   "cell_type": "code",
   "execution_count": 50,
   "id": "cc3d5ea2",
   "metadata": {},
   "outputs": [
    {
     "name": "stdout",
     "output_type": "stream",
     "text": [
      "La min: 48.0\n",
      "La max: 1373639072.25\n",
      "La moyenne: 33405469.3\n"
     ]
    }
   ],
   "source": [
    "print(\"La min:\", data_11[0][0])\n",
    "print(\"La max:\", data_11[0][1])\n",
    "print(\"La moyenne:\", data_11[0][2])"
   ]
  },
  {
   "cell_type": "code",
   "execution_count": null,
   "id": "1913fc6e",
   "metadata": {},
   "outputs": [],
   "source": []
  }
 ],
 "metadata": {
  "kernelspec": {
   "display_name": "Python 3 (ipykernel)",
   "language": "python",
   "name": "python3"
  },
  "language_info": {
   "codemirror_mode": {
    "name": "ipython",
    "version": 3
   },
   "file_extension": ".py",
   "mimetype": "text/x-python",
   "name": "python",
   "nbconvert_exporter": "python",
   "pygments_lexer": "ipython3",
   "version": "3.11.5"
  }
 },
 "nbformat": 4,
 "nbformat_minor": 5
}

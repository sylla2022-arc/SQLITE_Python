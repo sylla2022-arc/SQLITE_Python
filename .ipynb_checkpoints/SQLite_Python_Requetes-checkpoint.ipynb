{
 "cells": [
  {
   "cell_type": "code",
   "execution_count": 1,
   "id": "afd4ce99",
   "metadata": {},
   "outputs": [],
   "source": [
    "import math\n",
    "import pandas as pd\n",
    "import sqlite3 as sql \n",
    "import numpy as np"
   ]
  },
  {
   "cell_type": "markdown",
   "id": "5594cab8",
   "metadata": {},
   "source": [
    "#  1. Lecture de fichier\n",
    "* **SQLite python**"
   ]
  },
  {
   "cell_type": "code",
   "execution_count": 2,
   "id": "547a2e4e",
   "metadata": {},
   "outputs": [
    {
     "data": {
      "text/html": [
       "<div>\n",
       "<style scoped>\n",
       "    .dataframe tbody tr th:only-of-type {\n",
       "        vertical-align: middle;\n",
       "    }\n",
       "\n",
       "    .dataframe tbody tr th {\n",
       "        vertical-align: top;\n",
       "    }\n",
       "\n",
       "    .dataframe thead th {\n",
       "        text-align: right;\n",
       "    }\n",
       "</style>\n",
       "<table border=\"1\" class=\"dataframe\">\n",
       "  <thead>\n",
       "    <tr style=\"text-align: right;\">\n",
       "      <th></th>\n",
       "      <th>id</th>\n",
       "      <th>code</th>\n",
       "      <th>name</th>\n",
       "      <th>area</th>\n",
       "      <th>area_land</th>\n",
       "      <th>area_water</th>\n",
       "      <th>population</th>\n",
       "      <th>population_growth</th>\n",
       "      <th>birth_rate</th>\n",
       "      <th>death_rate</th>\n",
       "      <th>migration_rate</th>\n",
       "      <th>created_at</th>\n",
       "      <th>updated_at</th>\n",
       "    </tr>\n",
       "  </thead>\n",
       "  <tbody>\n",
       "    <tr>\n",
       "      <th>0</th>\n",
       "      <td>2</td>\n",
       "      <td>al</td>\n",
       "      <td>Albania</td>\n",
       "      <td>28748.0</td>\n",
       "      <td>27398</td>\n",
       "      <td>1350</td>\n",
       "      <td>3029278.0</td>\n",
       "      <td>0.30</td>\n",
       "      <td>12.92</td>\n",
       "      <td>6.58</td>\n",
       "      <td>3.3</td>\n",
       "      <td>2015-11-01 13:19:54.431082</td>\n",
       "      <td>2015-11-01 13:19:54.431082</td>\n",
       "    </tr>\n",
       "    <tr>\n",
       "      <th>1</th>\n",
       "      <td>7</td>\n",
       "      <td>ar</td>\n",
       "      <td>Argentina</td>\n",
       "      <td>2780400.0</td>\n",
       "      <td>2736690</td>\n",
       "      <td>43710</td>\n",
       "      <td>43431886.0</td>\n",
       "      <td>0.93</td>\n",
       "      <td>16.64</td>\n",
       "      <td>7.33</td>\n",
       "      <td>0.0</td>\n",
       "      <td>2015-11-01 13:20:18.233063</td>\n",
       "      <td>2015-11-01 13:20:18.233063</td>\n",
       "    </tr>\n",
       "  </tbody>\n",
       "</table>\n",
       "</div>"
      ],
      "text/plain": [
       "   id code       name       area  area_land  area_water  population  \\\n",
       "0   2   al    Albania    28748.0      27398        1350   3029278.0   \n",
       "1   7   ar  Argentina  2780400.0    2736690       43710  43431886.0   \n",
       "\n",
       "   population_growth  birth_rate  death_rate  migration_rate  \\\n",
       "0               0.30       12.92        6.58             3.3   \n",
       "1               0.93       16.64        7.33             0.0   \n",
       "\n",
       "                   created_at                  updated_at  \n",
       "0  2015-11-01 13:19:54.431082  2015-11-01 13:19:54.431082  \n",
       "1  2015-11-01 13:20:18.233063  2015-11-01 13:20:18.233063  "
      ]
     },
     "execution_count": 2,
     "metadata": {},
     "output_type": "execute_result"
    }
   ],
   "source": [
    "conn = sql.connect(\"factbook.db\")\n",
    "data = pd.read_sql_query(\"select * from facts where (area_land != ' ') and (area_water != 0);\", con = conn)\n",
    "data.head(2)"
   ]
  },
  {
   "cell_type": "markdown",
   "id": "d50e42a2",
   "metadata": {},
   "source": [
    "## Commentaire: \n",
    "\n",
    "Avant d'éxecuter des requêtes, nous allons estimer la population des différents pays du monde en 2050. "
   ]
  },
  {
   "cell_type": "markdown",
   "id": "0ac5d8bf",
   "metadata": {},
   "source": [
    "####  Formule mathématiques de prévision demographique\n",
    "\n",
    "* **N = N0*exp(rt)** >>>>>>>> N0*e**(r*t)\n",
    "\n",
    "    * **N0 = pop initial**\n",
    "    \n",
    "    * **exp = fonction exponentielle**\n",
    "    \n",
    "    * **r = taux d'évolution annuelle**\n",
    "    \n",
    "    * **t = Nbre d'année entre tps prevu  et temps init**"
   ]
  },
  {
   "cell_type": "code",
   "execution_count": 3,
   "id": "8b858b8e",
   "metadata": {},
   "outputs": [],
   "source": [
    "def pop_growth(data):\n",
    "    return data['population']*np.e**((data['population_growth']/100)*35)"
   ]
  },
  {
   "cell_type": "code",
   "execution_count": 4,
   "id": "4a3840f5",
   "metadata": {},
   "outputs": [
    {
     "data": {
      "text/plain": [
       "2.718281828459045"
      ]
     },
     "execution_count": 4,
     "metadata": {},
     "output_type": "execute_result"
    }
   ],
   "source": [
    "np.e"
   ]
  },
  {
   "cell_type": "code",
   "execution_count": 5,
   "id": "1ac3b2a5",
   "metadata": {},
   "outputs": [],
   "source": [
    "data[\"Pop_2050\"] =  data.apply(lambda row: pop_growth(row), axis = 1)"
   ]
  },
  {
   "cell_type": "code",
   "execution_count": 6,
   "id": "80c1b922",
   "metadata": {},
   "outputs": [
    {
     "data": {
      "text/html": [
       "<div>\n",
       "<style scoped>\n",
       "    .dataframe tbody tr th:only-of-type {\n",
       "        vertical-align: middle;\n",
       "    }\n",
       "\n",
       "    .dataframe tbody tr th {\n",
       "        vertical-align: top;\n",
       "    }\n",
       "\n",
       "    .dataframe thead th {\n",
       "        text-align: right;\n",
       "    }\n",
       "</style>\n",
       "<table border=\"1\" class=\"dataframe\">\n",
       "  <thead>\n",
       "    <tr style=\"text-align: right;\">\n",
       "      <th></th>\n",
       "      <th>id</th>\n",
       "      <th>code</th>\n",
       "      <th>name</th>\n",
       "      <th>area</th>\n",
       "      <th>area_land</th>\n",
       "      <th>area_water</th>\n",
       "      <th>population</th>\n",
       "      <th>population_growth</th>\n",
       "      <th>birth_rate</th>\n",
       "      <th>death_rate</th>\n",
       "      <th>migration_rate</th>\n",
       "      <th>created_at</th>\n",
       "      <th>updated_at</th>\n",
       "      <th>Pop_2050</th>\n",
       "    </tr>\n",
       "  </thead>\n",
       "  <tbody>\n",
       "    <tr>\n",
       "      <th>0</th>\n",
       "      <td>2</td>\n",
       "      <td>al</td>\n",
       "      <td>Albania</td>\n",
       "      <td>28748.0</td>\n",
       "      <td>27398</td>\n",
       "      <td>1350</td>\n",
       "      <td>3029278.0</td>\n",
       "      <td>0.3</td>\n",
       "      <td>12.92</td>\n",
       "      <td>6.58</td>\n",
       "      <td>3.3</td>\n",
       "      <td>2015-11-01 13:19:54.431082</td>\n",
       "      <td>2015-11-01 13:19:54.431082</td>\n",
       "      <td>3.364651e+06</td>\n",
       "    </tr>\n",
       "  </tbody>\n",
       "</table>\n",
       "</div>"
      ],
      "text/plain": [
       "   id code     name     area  area_land  area_water  population  \\\n",
       "0   2   al  Albania  28748.0      27398        1350   3029278.0   \n",
       "\n",
       "   population_growth  birth_rate  death_rate  migration_rate  \\\n",
       "0                0.3       12.92        6.58             3.3   \n",
       "\n",
       "                   created_at                  updated_at      Pop_2050  \n",
       "0  2015-11-01 13:19:54.431082  2015-11-01 13:19:54.431082  3.364651e+06  "
      ]
     },
     "execution_count": 6,
     "metadata": {},
     "output_type": "execute_result"
    }
   ],
   "source": [
    "data.head(1)"
   ]
  },
  {
   "cell_type": "markdown",
   "id": "4d9586eb",
   "metadata": {},
   "source": [
    "### Trier sur la zone geographique non nul \n",
    "\n",
    "Nous voulons des zones habitables par des gens "
   ]
  },
  {
   "cell_type": "code",
   "execution_count": 7,
   "id": "0637d367",
   "metadata": {},
   "outputs": [
    {
     "data": {
      "text/html": [
       "<div>\n",
       "<style scoped>\n",
       "    .dataframe tbody tr th:only-of-type {\n",
       "        vertical-align: middle;\n",
       "    }\n",
       "\n",
       "    .dataframe tbody tr th {\n",
       "        vertical-align: top;\n",
       "    }\n",
       "\n",
       "    .dataframe thead th {\n",
       "        text-align: right;\n",
       "    }\n",
       "</style>\n",
       "<table border=\"1\" class=\"dataframe\">\n",
       "  <thead>\n",
       "    <tr style=\"text-align: right;\">\n",
       "      <th></th>\n",
       "      <th>id</th>\n",
       "      <th>code</th>\n",
       "      <th>name</th>\n",
       "      <th>area</th>\n",
       "      <th>area_land</th>\n",
       "      <th>area_water</th>\n",
       "      <th>population</th>\n",
       "      <th>population_growth</th>\n",
       "      <th>birth_rate</th>\n",
       "      <th>death_rate</th>\n",
       "      <th>migration_rate</th>\n",
       "      <th>created_at</th>\n",
       "      <th>updated_at</th>\n",
       "      <th>Pop_2050</th>\n",
       "    </tr>\n",
       "  </thead>\n",
       "  <tbody>\n",
       "    <tr>\n",
       "      <th>0</th>\n",
       "      <td>2</td>\n",
       "      <td>al</td>\n",
       "      <td>Albania</td>\n",
       "      <td>28748.0</td>\n",
       "      <td>27398</td>\n",
       "      <td>1350</td>\n",
       "      <td>3029278.0</td>\n",
       "      <td>0.30</td>\n",
       "      <td>12.92</td>\n",
       "      <td>6.58</td>\n",
       "      <td>3.3</td>\n",
       "      <td>2015-11-01 13:19:54.431082</td>\n",
       "      <td>2015-11-01 13:19:54.431082</td>\n",
       "      <td>3.364651e+06</td>\n",
       "    </tr>\n",
       "    <tr>\n",
       "      <th>1</th>\n",
       "      <td>7</td>\n",
       "      <td>ar</td>\n",
       "      <td>Argentina</td>\n",
       "      <td>2780400.0</td>\n",
       "      <td>2736690</td>\n",
       "      <td>43710</td>\n",
       "      <td>43431886.0</td>\n",
       "      <td>0.93</td>\n",
       "      <td>16.64</td>\n",
       "      <td>7.33</td>\n",
       "      <td>0.0</td>\n",
       "      <td>2015-11-01 13:20:18.233063</td>\n",
       "      <td>2015-11-01 13:20:18.233063</td>\n",
       "      <td>6.014112e+07</td>\n",
       "    </tr>\n",
       "  </tbody>\n",
       "</table>\n",
       "</div>"
      ],
      "text/plain": [
       "   id code       name       area  area_land  area_water  population  \\\n",
       "0   2   al    Albania    28748.0      27398        1350   3029278.0   \n",
       "1   7   ar  Argentina  2780400.0    2736690       43710  43431886.0   \n",
       "\n",
       "   population_growth  birth_rate  death_rate  migration_rate  \\\n",
       "0               0.30       12.92        6.58             3.3   \n",
       "1               0.93       16.64        7.33             0.0   \n",
       "\n",
       "                   created_at                  updated_at      Pop_2050  \n",
       "0  2015-11-01 13:19:54.431082  2015-11-01 13:19:54.431082  3.364651e+06  \n",
       "1  2015-11-01 13:20:18.233063  2015-11-01 13:20:18.233063  6.014112e+07  "
      ]
     },
     "execution_count": 7,
     "metadata": {},
     "output_type": "execute_result"
    }
   ],
   "source": [
    "data =  data[(data['area_land']> 0) &  (data['population']> 0)]\n",
    "data.head(2)"
   ]
  },
  {
   "cell_type": "markdown",
   "id": "d9ec97bb",
   "metadata": {},
   "source": [
    "### Prévision de la population en 2050"
   ]
  },
  {
   "cell_type": "code",
   "execution_count": 8,
   "id": "cb39b35c",
   "metadata": {},
   "outputs": [
    {
     "data": {
      "text/html": [
       "<div>\n",
       "<style scoped>\n",
       "    .dataframe tbody tr th:only-of-type {\n",
       "        vertical-align: middle;\n",
       "    }\n",
       "\n",
       "    .dataframe tbody tr th {\n",
       "        vertical-align: top;\n",
       "    }\n",
       "\n",
       "    .dataframe thead th {\n",
       "        text-align: right;\n",
       "    }\n",
       "</style>\n",
       "<table border=\"1\" class=\"dataframe\">\n",
       "  <thead>\n",
       "    <tr style=\"text-align: right;\">\n",
       "      <th></th>\n",
       "      <th>id</th>\n",
       "      <th>code</th>\n",
       "      <th>name</th>\n",
       "      <th>area</th>\n",
       "      <th>area_land</th>\n",
       "      <th>area_water</th>\n",
       "      <th>population</th>\n",
       "      <th>population_growth</th>\n",
       "      <th>birth_rate</th>\n",
       "      <th>death_rate</th>\n",
       "      <th>migration_rate</th>\n",
       "      <th>created_at</th>\n",
       "      <th>updated_at</th>\n",
       "      <th>Pop_2050</th>\n",
       "    </tr>\n",
       "  </thead>\n",
       "  <tbody>\n",
       "    <tr>\n",
       "      <th>59</th>\n",
       "      <td>77</td>\n",
       "      <td>in</td>\n",
       "      <td>India</td>\n",
       "      <td>3287263.0</td>\n",
       "      <td>2973193</td>\n",
       "      <td>314070</td>\n",
       "      <td>1.251696e+09</td>\n",
       "      <td>1.22</td>\n",
       "      <td>19.55</td>\n",
       "      <td>7.32</td>\n",
       "      <td>0.04</td>\n",
       "      <td>2015-11-01 13:26:24.788193</td>\n",
       "      <td>2015-11-01 13:26:24.788193</td>\n",
       "      <td>1.918415e+09</td>\n",
       "    </tr>\n",
       "    <tr>\n",
       "      <th>26</th>\n",
       "      <td>37</td>\n",
       "      <td>ch</td>\n",
       "      <td>China</td>\n",
       "      <td>9596960.0</td>\n",
       "      <td>9326410</td>\n",
       "      <td>270550</td>\n",
       "      <td>1.367485e+09</td>\n",
       "      <td>0.45</td>\n",
       "      <td>12.49</td>\n",
       "      <td>7.53</td>\n",
       "      <td>0.44</td>\n",
       "      <td>2015-11-01 13:22:53.813142</td>\n",
       "      <td>2015-11-01 13:22:53.813142</td>\n",
       "      <td>1.600752e+09</td>\n",
       "    </tr>\n",
       "    <tr>\n",
       "      <th>96</th>\n",
       "      <td>129</td>\n",
       "      <td>ni</td>\n",
       "      <td>Nigeria</td>\n",
       "      <td>923768.0</td>\n",
       "      <td>910768</td>\n",
       "      <td>13000</td>\n",
       "      <td>1.815621e+08</td>\n",
       "      <td>2.45</td>\n",
       "      <td>37.64</td>\n",
       "      <td>12.90</td>\n",
       "      <td>0.22</td>\n",
       "      <td>2015-11-01 13:30:39.695455</td>\n",
       "      <td>2015-11-01 13:30:39.695455</td>\n",
       "      <td>4.279890e+08</td>\n",
       "    </tr>\n",
       "  </tbody>\n",
       "</table>\n",
       "</div>"
      ],
      "text/plain": [
       "     id code     name       area  area_land  area_water    population  \\\n",
       "59   77   in    India  3287263.0    2973193      314070  1.251696e+09   \n",
       "26   37   ch    China  9596960.0    9326410      270550  1.367485e+09   \n",
       "96  129   ni  Nigeria   923768.0     910768       13000  1.815621e+08   \n",
       "\n",
       "    population_growth  birth_rate  death_rate  migration_rate  \\\n",
       "59               1.22       19.55        7.32            0.04   \n",
       "26               0.45       12.49        7.53            0.44   \n",
       "96               2.45       37.64       12.90            0.22   \n",
       "\n",
       "                    created_at                  updated_at      Pop_2050  \n",
       "59  2015-11-01 13:26:24.788193  2015-11-01 13:26:24.788193  1.918415e+09  \n",
       "26  2015-11-01 13:22:53.813142  2015-11-01 13:22:53.813142  1.600752e+09  \n",
       "96  2015-11-01 13:30:39.695455  2015-11-01 13:30:39.695455  4.279890e+08  "
      ]
     },
     "execution_count": 8,
     "metadata": {},
     "output_type": "execute_result"
    }
   ],
   "source": [
    "data.sort_values(by= ['Pop_2050'], ascending = False).iloc[0:3]"
   ]
  },
  {
   "cell_type": "code",
   "execution_count": 9,
   "id": "96fa4d33",
   "metadata": {},
   "outputs": [
    {
     "name": "stdout",
     "output_type": "stream",
     "text": [
      " La population totale sera estimée d'alors: 6897846783.0.\n"
     ]
    }
   ],
   "source": [
    "print(f\" La population totale sera estimée d'alors: {data.population.sum()}.\")"
   ]
  },
  {
   "cell_type": "markdown",
   "id": "3a258806",
   "metadata": {},
   "source": [
    "* **SQL**  *Trie sur la surface des terres sans que la surface des eaux devraient pas nulle*"
   ]
  },
  {
   "cell_type": "code",
   "execution_count": 10,
   "id": "077a3bf8",
   "metadata": {},
   "outputs": [
    {
     "data": {
      "text/plain": [
       "[('Albania', 27398, 3029278, 1350),\n",
       " ('Argentina', 2736690, 43431886, 43710),\n",
       " ('Armenia', 28203, 3056382, 1540)]"
      ]
     },
     "execution_count": 10,
     "metadata": {},
     "output_type": "execute_result"
    }
   ],
   "source": [
    "script = 'select name, area_land, population, area_water population_growth from facts where population > 0 and area_land > 0 and area_water > 0 group by name limit 3 ;'\n",
    "aera_sort = conn.execute(script).fetchall()\n",
    "aera_sort"
   ]
  },
  {
   "cell_type": "markdown",
   "id": "60f7972d",
   "metadata": {},
   "source": [
    "## 2. Calcul\n",
    "\n",
    "Le **ratio** de la surface terrestre total sur la surface totale des océans appartenant aux pays  de la table facts.\n",
    " \n",
    "**area_water** = surface des océans\n",
    "\n",
    "**area_land** = surface des terres\n",
    "\n",
    "\n",
    "* **Pandas**"
   ]
  },
  {
   "cell_type": "code",
   "execution_count": 11,
   "id": "3584f10c",
   "metadata": {},
   "outputs": [],
   "source": [
    "ratio_area = (data['area_land'].sum())/(data['area_water'].sum())"
   ]
  },
  {
   "cell_type": "code",
   "execution_count": 12,
   "id": "65d3fd6d",
   "metadata": {},
   "outputs": [
    {
     "data": {
      "text/plain": [
       "25.57"
      ]
     },
     "execution_count": 12,
     "metadata": {},
     "output_type": "execute_result"
    }
   ],
   "source": [
    "round(ratio_area,2)"
   ]
  },
  {
   "cell_type": "code",
   "execution_count": 13,
   "id": "f070ddca",
   "metadata": {},
   "outputs": [
    {
     "name": "stdout",
     "output_type": "stream",
     "text": [
      "Le ratio de la surface terrestre total sur la surface des océans vaut:  25.57.\n"
     ]
    }
   ],
   "source": [
    "df_ratio = conn.execute(\"SELECT sum(area_land), sum(area_water) from facts WHERE area_land > 0 and area_water > 0 and population > 0;\").fetchall()\n",
    "print(f\"Le ratio de la surface terrestre total sur la surface des océans vaut: {df_ratio[0][0]/df_ratio[0][1] : .2f}.\" )"
   ]
  },
  {
   "cell_type": "code",
   "execution_count": 14,
   "id": "f8b5cad0",
   "metadata": {},
   "outputs": [],
   "source": [
    "## 4. Compter le nombre de valeurs non null\n"
   ]
  },
  {
   "cell_type": "markdown",
   "id": "ae16ea24",
   "metadata": {},
   "source": [
    "## 3. Imprimer le type de données"
   ]
  },
  {
   "cell_type": "markdown",
   "id": "2397ea8d",
   "metadata": {},
   "source": [
    "* **Pandas**"
   ]
  },
  {
   "cell_type": "code",
   "execution_count": 15,
   "id": "1f509387",
   "metadata": {},
   "outputs": [
    {
     "data": {
      "text/plain": [
       "id                     int64\n",
       "code                  object\n",
       "name                  object\n",
       "area                 float64\n",
       "area_land              int64\n",
       "area_water             int64\n",
       "population           float64\n",
       "population_growth    float64\n",
       "birth_rate           float64\n",
       "death_rate           float64\n",
       "migration_rate       float64\n",
       "created_at            object\n",
       "updated_at            object\n",
       "Pop_2050             float64\n",
       "dtype: object"
      ]
     },
     "execution_count": 15,
     "metadata": {},
     "output_type": "execute_result"
    }
   ],
   "source": [
    "data.dtypes"
   ]
  },
  {
   "cell_type": "markdown",
   "id": "dccac6da",
   "metadata": {},
   "source": [
    "* **SQL**"
   ]
  },
  {
   "cell_type": "code",
   "execution_count": 16,
   "id": "7f821d19",
   "metadata": {},
   "outputs": [
    {
     "data": {
      "text/plain": [
       "[(0, 'id', 'INTEGER', 1, None, 1),\n",
       " (1, 'code', 'varchar(255)', 1, None, 0),\n",
       " (2, 'name', 'varchar(255)', 1, None, 0),\n",
       " (3, 'area', 'INTEGER', 0, None, 0),\n",
       " (4, 'area_land', 'INTEGER', 0, None, 0),\n",
       " (5, 'area_water', 'INTEGER', 0, None, 0),\n",
       " (6, 'population', 'INTEGER', 0, None, 0),\n",
       " (7, 'population_growth', 'float', 0, None, 0),\n",
       " (8, 'birth_rate', 'float', 0, None, 0),\n",
       " (9, 'death_rate', 'float', 0, None, 0),\n",
       " (10, 'migration_rate', 'float', 0, None, 0),\n",
       " (11, 'created_at', 'datetime', 0, None, 0),\n",
       " (12, 'updated_at', 'datetime', 0, None, 0)]"
      ]
     },
     "execution_count": 16,
     "metadata": {},
     "output_type": "execute_result"
    }
   ],
   "source": [
    "type_sql = conn.execute(\"PRAGMA table_info(facts);\").fetchall()\n",
    "type_sql"
   ]
  },
  {
   "cell_type": "markdown",
   "id": "84e9c686",
   "metadata": {},
   "source": [
    "## 4. Imprimer le nombre de valeurs non nul "
   ]
  },
  {
   "cell_type": "markdown",
   "id": "a912048c",
   "metadata": {},
   "source": [
    "*  **Pandas**"
   ]
  },
  {
   "cell_type": "code",
   "execution_count": 17,
   "id": "b7501c56",
   "metadata": {
    "scrolled": true
   },
   "outputs": [
    {
     "data": {
      "text/plain": [
       "id                   0\n",
       "code                 0\n",
       "name                 0\n",
       "area                 2\n",
       "area_land            0\n",
       "area_water           0\n",
       "population           0\n",
       "population_growth    0\n",
       "birth_rate           0\n",
       "death_rate           0\n",
       "migration_rate       1\n",
       "created_at           0\n",
       "updated_at           0\n",
       "Pop_2050             0\n",
       "dtype: int64"
      ]
     },
     "execution_count": 17,
     "metadata": {},
     "output_type": "execute_result"
    }
   ],
   "source": [
    "data.isna().sum()"
   ]
  },
  {
   "cell_type": "code",
   "execution_count": 18,
   "id": "330151e9",
   "metadata": {},
   "outputs": [
    {
     "data": {
      "text/plain": [
       "2"
      ]
     },
     "execution_count": 18,
     "metadata": {},
     "output_type": "execute_result"
    }
   ],
   "source": [
    "data[\"area\"].isna().sum()"
   ]
  },
  {
   "cell_type": "markdown",
   "id": "fb1d3aa6",
   "metadata": {},
   "source": [
    "* **SQL**\n",
    "\n",
    "En SQL, nous ne pouvons le faire globalement, par exempple pour **area**, on procéde ainsi:"
   ]
  },
  {
   "cell_type": "code",
   "execution_count": 19,
   "id": "69914bea",
   "metadata": {},
   "outputs": [
    {
     "name": "stdout",
     "output_type": "stream",
     "text": [
      "2\n"
     ]
    }
   ],
   "source": [
    "count_na_area= conn.execute(\"select count(*)  from facts  where  area  is null and area_land != ' ' and area_water != ' ' ;\").fetchall()\n",
    "print(count_na_area[0][0])"
   ]
  },
  {
   "cell_type": "markdown",
   "id": "a30e9ef8",
   "metadata": {},
   "source": [
    "##  5. imprimer Max et Min d'une colonne numerique \n",
    "\n",
    "**Mission**: Quel est le pays où le taux de mortalité est le plus élévé et également le pays où la croissance demographique est la plus basse.\n",
    "\n",
    "* **Pandas**"
   ]
  },
  {
   "cell_type": "code",
   "execution_count": 20,
   "id": "ccb876d1",
   "metadata": {},
   "outputs": [
    {
     "data": {
      "text/html": [
       "<div>\n",
       "<style scoped>\n",
       "    .dataframe tbody tr th:only-of-type {\n",
       "        vertical-align: middle;\n",
       "    }\n",
       "\n",
       "    .dataframe tbody tr th {\n",
       "        vertical-align: top;\n",
       "    }\n",
       "\n",
       "    .dataframe thead th {\n",
       "        text-align: right;\n",
       "    }\n",
       "</style>\n",
       "<table border=\"1\" class=\"dataframe\">\n",
       "  <thead>\n",
       "    <tr style=\"text-align: right;\">\n",
       "      <th></th>\n",
       "      <th>id</th>\n",
       "      <th>area</th>\n",
       "      <th>area_land</th>\n",
       "      <th>area_water</th>\n",
       "      <th>population</th>\n",
       "      <th>population_growth</th>\n",
       "      <th>birth_rate</th>\n",
       "      <th>death_rate</th>\n",
       "      <th>migration_rate</th>\n",
       "      <th>Pop_2050</th>\n",
       "    </tr>\n",
       "  </thead>\n",
       "  <tbody>\n",
       "    <tr>\n",
       "      <th>min</th>\n",
       "      <td>2</td>\n",
       "      <td>616.0</td>\n",
       "      <td>346</td>\n",
       "      <td>10</td>\n",
       "      <td>1.035740e+05</td>\n",
       "      <td>0.01</td>\n",
       "      <td>7.93</td>\n",
       "      <td>3.43</td>\n",
       "      <td>0.00</td>\n",
       "      <td>1.076252e+05</td>\n",
       "    </tr>\n",
       "    <tr>\n",
       "      <th>max</th>\n",
       "      <td>254</td>\n",
       "      <td>17098242.0</td>\n",
       "      <td>16377742</td>\n",
       "      <td>891163</td>\n",
       "      <td>1.367485e+09</td>\n",
       "      <td>3.32</td>\n",
       "      <td>45.45</td>\n",
       "      <td>14.46</td>\n",
       "      <td>19.79</td>\n",
       "      <td>1.918415e+09</td>\n",
       "    </tr>\n",
       "  </tbody>\n",
       "</table>\n",
       "</div>"
      ],
      "text/plain": [
       "      id        area  area_land  area_water    population  population_growth  \\\n",
       "min    2       616.0        346          10  1.035740e+05               0.01   \n",
       "max  254  17098242.0   16377742      891163  1.367485e+09               3.32   \n",
       "\n",
       "     birth_rate  death_rate  migration_rate      Pop_2050  \n",
       "min        7.93        3.43            0.00  1.076252e+05  \n",
       "max       45.45       14.46           19.79  1.918415e+09  "
      ]
     },
     "execution_count": 20,
     "metadata": {},
     "output_type": "execute_result"
    }
   ],
   "source": [
    "list_num = data.select_dtypes(include =['int', 'float']).columns.to_list()\n",
    "data[list_num].agg({max, min})"
   ]
  },
  {
   "cell_type": "markdown",
   "id": "353027b4",
   "metadata": {},
   "source": [
    "* **SQL**\n",
    "\n",
    "\n",
    "**1**. Utiliser la fonction **min** sur la colonne **population_growth**\n",
    "\n",
    "**2**.  Utiliser la fonction **max** sur la colonne **death_rate**"
   ]
  },
  {
   "cell_type": "code",
   "execution_count": 22,
   "id": "7a7f99e3",
   "metadata": {},
   "outputs": [
    {
     "name": "stdout",
     "output_type": "stream",
     "text": [
      "C'est en Ukraine où le taux de mortalité: 14.46, est plus élévé\n",
      "C'est en  Greece où le taux de croissance demographique: 0.01, est plus basse.\n"
     ]
    }
   ],
   "source": [
    "min_pop_grow = conn.execute(\"SELECT min(population_growth), name from facts where (area_land != ' ')  and (area_water != 0) ;\").fetchall()\n",
    "max_death = conn.execute(\"SELECT max(death_rate), name from facts where (area_land != ' ') and (area_water != 0) ;\").fetchall()\n",
    "print(f\"C'est en {max_death[0][1]} où le taux de mortalité: {max_death[0][0]}, est plus élévé\")\n",
    "print(f\"C'est en  {min_pop_grow[0][1]} où le taux de croissance demographique: {min_pop_grow[0][0]}, est plus basse.\")"
   ]
  },
  {
   "cell_type": "markdown",
   "id": "17850c17",
   "metadata": {},
   "source": [
    "## Commentaire:\n",
    "Sur toute la suite de ce projet, on restera sur SQLITE associé à python"
   ]
  },
  {
   "cell_type": "markdown",
   "id": "868f487c",
   "metadata": {},
   "source": [
    "# 6. Mission\n",
    "\n",
    "Quel est la moyenne des surface océaniques de la terre ? NB: La surface des océans est: **area_water**"
   ]
  },
  {
   "cell_type": "code",
   "execution_count": 23,
   "id": "c32613f6",
   "metadata": {},
   "outputs": [
    {
     "name": "stdout",
     "output_type": "stream",
     "text": [
      "La surce moyenne des oceans est: 19067.59 unité².\n"
     ]
    }
   ],
   "source": [
    "moy_sql_area_water = conn.execute(\"SELECT avg(area_water) from facts ;\").fetchall()\n",
    "print(\"La surce moyenne des oceans est: {:.2f} unité².\".format(moy_sql_area_water[0][0]))"
   ]
  },
  {
   "cell_type": "markdown",
   "id": "da89c52a",
   "metadata": {},
   "source": [
    "## Mission 7: \n",
    "\n",
    "Ecrire une requête qui calcule:\n",
    "\n",
    "- La **moyenne** de la colonne **population**\n",
    "\n",
    "- La **somme** de la colonne **popution**\n",
    "\n",
    "- Le **maximum** de la colonne **birth_rate**\n",
    "\n",
    "Afficher les 3 résultats que à assignerer à trois variables différentes."
   ]
  },
  {
   "cell_type": "code",
   "execution_count": 25,
   "id": "5ea7ef94",
   "metadata": {},
   "outputs": [],
   "source": [
    "rep_7 = conn.execute(\"SELECT avg(population), sum(population), max(birth_rate) from facts ;\").fetchall()\n",
    "moy = rep_7[0][0]\n",
    "sum_ = rep_7[0][1]\n",
    "max_ = rep_7[0][2]"
   ]
  },
  {
   "cell_type": "code",
   "execution_count": 26,
   "id": "e05a958b",
   "metadata": {},
   "outputs": [
    {
     "name": "stdout",
     "output_type": "stream",
     "text": [
      "La moyenne de la population mondiale : 62094928.32, \n",
      "La population totale mondiale est: 15026972654.00, \n",
      "Le maximum du taux de natalité: 45.45.\n"
     ]
    }
   ],
   "source": [
    "print(\"La moyenne de la population mondiale : {:.2f}, \\nLa population totale mondiale est: {:.2f}, \\nLe maximum du taux de natalité: {}.\" .format(moy, sum_, max_))"
   ]
  },
  {
   "cell_type": "markdown",
   "id": "e70b6fbc",
   "metadata": {},
   "source": [
    "# 8. Mission: \n",
    "\n",
    "Ecrire une requête qui calcule:\n",
    "\n",
    "La **moyenne** de la colonne **population_growth** pour les Pays ayant une pop sup à **10 000 000**"
   ]
  },
  {
   "cell_type": "code",
   "execution_count": 27,
   "id": "37953796",
   "metadata": {},
   "outputs": [
    {
     "name": "stdout",
     "output_type": "stream",
     "text": [
      "La coissance demographique moyenne  est :1.46.\n"
     ]
    }
   ],
   "source": [
    "AVG_pop_10 =  conn.execute(\"SELECT avg(population_growth) from facts where population > 10000000 ;\").fetchall()\n",
    "print(f\"La coissance demographique moyenne  est :{ AVG_pop_10[0][0]:.2f}.\")"
   ]
  },
  {
   "cell_type": "markdown",
   "id": "e9861202",
   "metadata": {},
   "source": [
    "# 9. Mission: \n",
    "\n",
    "Ecrire une requête qui calcule:\n",
    "\n",
    "-  **moyenne** des valeurs distinctes de la colonne **birth_rate** pour laquelle **population** est plus grande que **20 millions**\n",
    "- La **somme** de toutes les valeus distinctes de la colonne **popution** pour laquelle **area_land** est plus grande que \n",
    "**1.000.000**\n",
    "-  Afficher les valeurs de la **population_growth** en millions (dec)"
   ]
  },
  {
   "cell_type": "code",
   "execution_count": 28,
   "id": "a926a3f7",
   "metadata": {},
   "outputs": [
    {
     "name": "stdout",
     "output_type": "stream",
     "text": [
      " le birth_rate pour laquelle population est plus grande que 20 millions: 20.43\n",
      " La somme des valeurs disctintes de la colonne popution pour laquelle area_land est plus grande que 1.000.000 est : 4233873015.\n"
     ]
    }
   ],
   "source": [
    "avg_dict_birth = conn.execute(\"SELECT avg(distinct birth_rate) from facts WHERE (population > 20000000);\").fetchall()\n",
    "sum_disti_val = conn.execute(\"SELECT  sum(distinct population) from facts WHERE (area_land > 1000000);\").fetchall()\n",
    "pop_dec = conn.execute(\"SELECT name,  (population_growth/1000000) from facts limit 3;\").fetchall()\n",
    "print(f\" le birth_rate pour laquelle population est plus grande que 20 millions: {avg_dict_birth[0][0] :.2f}\")\n",
    "print(f\" La somme des valeurs disctintes de la colonne popution pour laquelle area_land est plus grande que 1.000.000 est : {sum_disti_val[0][0]}.\")"
   ]
  },
  {
   "cell_type": "code",
   "execution_count": 29,
   "id": "ff89d6a3",
   "metadata": {},
   "outputs": [
    {
     "data": {
      "text/plain": [
       "[('Afghanistan', 2.32e-06),\n",
       " ('Albania', 3e-07),\n",
       " ('Algeria', 1.8400000000000002e-06)]"
      ]
     },
     "execution_count": 29,
     "metadata": {},
     "output_type": "execute_result"
    }
   ],
   "source": [
    "pop_dec"
   ]
  },
  {
   "cell_type": "markdown",
   "id": "376ffb41",
   "metadata": {},
   "source": [
    "# Mission 10: \n",
    "\n",
    "Ecrire une requête qui calcule, pour chaque pays:\n",
    "\n",
    "-  **Le nombre dhabitant** qu'il aura l'année suivante\n",
    "\n",
    "**NB**: Multiplier les colonne pop et population_growth + population"
   ]
  },
  {
   "cell_type": "markdown",
   "id": "4497a9eb",
   "metadata": {},
   "source": [
    "### 1ière methode:"
   ]
  },
  {
   "cell_type": "code",
   "execution_count": 30,
   "id": "c6b1aca2",
   "metadata": {},
   "outputs": [
    {
     "name": "stdout",
     "output_type": "stream",
     "text": [
      "Afghanistan : 108113615.44\n",
      "Albania : 3938061.4\n",
      "Algeria : 112299751.44\n",
      "Andorra : 95849.6\n",
      "Angola : 74183834.34\n",
      "Antigua and Barbuda : 207056.64\n",
      "Argentina : 83823539.98\n",
      "Armenia : 3514839.3\n",
      "Australia : 47094598.980000004\n",
      "Austria : 13431602.5\n"
     ]
    }
   ],
   "source": [
    "pop_est = conn.execute(\"select name , (population*population_growth) + population from facts limit 10;\").fetchall()\n",
    "for tple in pop_est:\n",
    "    pay, value = tple\n",
    "    print(f\"{pay} : {value}\")"
   ]
  },
  {
   "cell_type": "markdown",
   "id": "9681830b",
   "metadata": {},
   "source": [
    "###  Deuxième methode"
   ]
  },
  {
   "cell_type": "code",
   "execution_count": 31,
   "id": "643f328d",
   "metadata": {},
   "outputs": [],
   "source": [
    "pop_esti =pd.read_sql_query( \"select name , ((population*population_growth) + population)  as pop_estimation_1 from facts;\",\n",
    "                            con = conn )"
   ]
  },
  {
   "cell_type": "code",
   "execution_count": 32,
   "id": "6667944a",
   "metadata": {},
   "outputs": [
    {
     "data": {
      "text/html": [
       "<div>\n",
       "<style scoped>\n",
       "    .dataframe tbody tr th:only-of-type {\n",
       "        vertical-align: middle;\n",
       "    }\n",
       "\n",
       "    .dataframe tbody tr th {\n",
       "        vertical-align: top;\n",
       "    }\n",
       "\n",
       "    .dataframe thead th {\n",
       "        text-align: right;\n",
       "    }\n",
       "</style>\n",
       "<table border=\"1\" class=\"dataframe\">\n",
       "  <thead>\n",
       "    <tr style=\"text-align: right;\">\n",
       "      <th></th>\n",
       "      <th>name</th>\n",
       "      <th>pop_estimation_1</th>\n",
       "    </tr>\n",
       "  </thead>\n",
       "  <tbody>\n",
       "    <tr>\n",
       "      <th>0</th>\n",
       "      <td>Afghanistan</td>\n",
       "      <td>1.081136e+08</td>\n",
       "    </tr>\n",
       "    <tr>\n",
       "      <th>1</th>\n",
       "      <td>Albania</td>\n",
       "      <td>3.938061e+06</td>\n",
       "    </tr>\n",
       "    <tr>\n",
       "      <th>2</th>\n",
       "      <td>Algeria</td>\n",
       "      <td>1.122998e+08</td>\n",
       "    </tr>\n",
       "    <tr>\n",
       "      <th>3</th>\n",
       "      <td>Andorra</td>\n",
       "      <td>9.584960e+04</td>\n",
       "    </tr>\n",
       "    <tr>\n",
       "      <th>4</th>\n",
       "      <td>Angola</td>\n",
       "      <td>7.418383e+07</td>\n",
       "    </tr>\n",
       "    <tr>\n",
       "      <th>5</th>\n",
       "      <td>Antigua and Barbuda</td>\n",
       "      <td>2.070566e+05</td>\n",
       "    </tr>\n",
       "    <tr>\n",
       "      <th>6</th>\n",
       "      <td>Argentina</td>\n",
       "      <td>8.382354e+07</td>\n",
       "    </tr>\n",
       "    <tr>\n",
       "      <th>7</th>\n",
       "      <td>Armenia</td>\n",
       "      <td>3.514839e+06</td>\n",
       "    </tr>\n",
       "    <tr>\n",
       "      <th>8</th>\n",
       "      <td>Australia</td>\n",
       "      <td>4.709460e+07</td>\n",
       "    </tr>\n",
       "    <tr>\n",
       "      <th>9</th>\n",
       "      <td>Austria</td>\n",
       "      <td>1.343160e+07</td>\n",
       "    </tr>\n",
       "  </tbody>\n",
       "</table>\n",
       "</div>"
      ],
      "text/plain": [
       "                  name  pop_estimation_1\n",
       "0          Afghanistan      1.081136e+08\n",
       "1              Albania      3.938061e+06\n",
       "2              Algeria      1.122998e+08\n",
       "3              Andorra      9.584960e+04\n",
       "4               Angola      7.418383e+07\n",
       "5  Antigua and Barbuda      2.070566e+05\n",
       "6            Argentina      8.382354e+07\n",
       "7              Armenia      3.514839e+06\n",
       "8            Australia      4.709460e+07\n",
       "9              Austria      1.343160e+07"
      ]
     },
     "execution_count": 32,
     "metadata": {},
     "output_type": "execute_result"
    }
   ],
   "source": [
    "pop_esti.head(10)"
   ]
  },
  {
   "cell_type": "markdown",
   "id": "6f5db755",
   "metadata": {},
   "source": [
    "## Mission 11: Max et min avec extraction\n",
    "\n",
    "* En SQL, calculer les valeurs minimums et maximums des colonnes, Population, Population_growth, Birth_rate et death_rate (2 requête SQL bien choisie).\n",
    "\n",
    "* Recupérer les résultats dans les variables: \n",
    "    * **pop_min**\n",
    "    * **pop_max**\n",
    "    * **pop_growth_min**\n",
    "    * **pop_growth_max**\n",
    "    * **birth_rate_min**\n",
    "    * **birth_rate_max**\n",
    "    * **death_rate_min**\n",
    "    * **death_rate_max**\n",
    "\n",
    "Et les afficher !"
   ]
  },
  {
   "cell_type": "code",
   "execution_count": 33,
   "id": "b60a050c",
   "metadata": {},
   "outputs": [],
   "source": [
    " min_max_sql = 'SELECT min(Population), max(Population) , min(Population_growth), max(Population_growth), min(birth_rate), max(birth_rate) ,min(death_rate), max(death_rate) from facts where population > 0;'"
   ]
  },
  {
   "cell_type": "code",
   "execution_count": 34,
   "id": "42db85db",
   "metadata": {},
   "outputs": [],
   "source": [
    "miss_11 = conn.execute(min_max_sql).fetchall()"
   ]
  },
  {
   "cell_type": "code",
   "execution_count": 35,
   "id": "fdd54d8e",
   "metadata": {},
   "outputs": [
    {
     "data": {
      "text/plain": [
       "[(48, 7256490011, 0.0, 4.02, 6.65, 45.45, 1.53, 14.89)]"
      ]
     },
     "execution_count": 35,
     "metadata": {},
     "output_type": "execute_result"
    }
   ],
   "source": [
    "miss_11"
   ]
  },
  {
   "cell_type": "code",
   "execution_count": 36,
   "id": "96a3d2ae",
   "metadata": {},
   "outputs": [
    {
     "name": "stdout",
     "output_type": "stream",
     "text": [
      "pop_min: 48\n",
      "pop_max: 7256490011\n",
      "pop_growth_min: 0.0\n",
      "pop_growth_max: 4.02\n",
      "birth_rate_min: 6.65\n",
      "birth_rate_max: 45.45\n",
      "death_rate_min: 1.53\n",
      "death_rate_max: 14.89\n"
     ]
    }
   ],
   "source": [
    "for typle in miss_11:\n",
    "    pop_min, pop_max, pop_growth_min, pop_growth_max, birth_rate_min, birth_rate_max, death_rate_min, death_rate_max = typle\n",
    "    print(f\"pop_min: {pop_min}\")\n",
    "    print(f\"pop_max: {pop_max}\")\n",
    "    print(f\"pop_growth_min: {pop_growth_min}\")\n",
    "    print(f\"pop_growth_max: {pop_growth_max}\")\n",
    "    print(f\"birth_rate_min: {birth_rate_min}\")\n",
    "    print(f\"birth_rate_max: {birth_rate_max}\")\n",
    "    print(f\"death_rate_min: {death_rate_min}\")\n",
    "    print(f\"death_rate_max: {death_rate_max}\")"
   ]
  },
  {
   "cell_type": "markdown",
   "id": "53b73341",
   "metadata": {},
   "source": [
    "## Mission 12 : Prédire la future croissance démographique\n",
    "\n",
    "* Retourner les valeurs de la croissance estimées l'année suivante en prenant en compte les remarques suivantes:\n",
    "\n",
    "    - Arrondir les valeurs à l'entier près (Valeurs non décimales)\n",
    "    - Filtrer les lignes qui contiennent des valeurs NULL, comme valeurs pour les colonnes population \n",
    "    - population_growth (population is not null)\n",
    "    - restrindre la requête aux pays ayant une population inférieure à **7 milliards**,  et **supérieure** à 0\n",
    "    \n",
    "* Asigner le resultats à la variable projected_population\n",
    "\n",
    "* Afficher les 10 premieres valeurs du résultats\n",
    "\n",
    "**Rappel** : Projected_population =  population*(1 + population_growth/100)"
   ]
  },
  {
   "cell_type": "code",
   "execution_count": 37,
   "id": "e484a925",
   "metadata": {},
   "outputs": [],
   "source": [
    "pop_proj = \"SELECT name,  round(population*(1 + population_growth/100), 0)  from facts where (Population  < 7000000000) and (population > 0)  and population is not null and population_growth is not null  LIMIT 10 ;\"\n",
    "\n",
    "miss_12 = conn.execute(pop_proj).fetchall()"
   ]
  },
  {
   "cell_type": "code",
   "execution_count": 38,
   "id": "3ca7191c",
   "metadata": {},
   "outputs": [
    {
     "name": "stdout",
     "output_type": "stream",
     "text": [
      "Afghanistan : 33319835.0\n",
      "Albania : 3038366.0\n",
      "Algeria : 40269742.0\n",
      "Andorra : 85683.0\n",
      "Angola : 20170938.0\n",
      "Antigua and Barbuda : 93582.0\n",
      "Argentina : 43835803.0\n",
      "Armenia : 3060967.0\n",
      "Australia : 22994450.0\n",
      "Austria : 8713211.0\n"
     ]
    }
   ],
   "source": [
    "for tple in miss_12:\n",
    "    pay, value = tple\n",
    "    print(f\"{pay} : {value}\")"
   ]
  },
  {
   "cell_type": "markdown",
   "id": "3686486a",
   "metadata": {},
   "source": [
    "## Mission13 : Explorer les estimations demographiques précédentes\n",
    "\n",
    "* Ecrire une requête qui retourne:\n",
    "\n",
    "    * La valeur **min** de l'estimation de la population et l'assigner à la variable proj_pop_min\n",
    "    * La valeur **max** de l'estimation de la population etl'assigner à la variable proj_pop_max\n",
    "    * La valeur **moyenne** de l'estimation de la population etl'assigner à la variable proj_pop_avg\n",
    "    \n",
    "* Afficher les résultats\n"
   ]
  },
  {
   "cell_type": "code",
   "execution_count": 39,
   "id": "09788f93",
   "metadata": {},
   "outputs": [],
   "source": [
    "min_max_avg_pop_proj =  \"SELECT  round(min(population*(1 + population_growth/100)), 2),  round(max(population*(1 + population_growth/100)),2), round(avg(population*(1 + population_growth/100)), 2) from facts where (Population  < 7000000000) and (population > 0) and population_growth is not null and population is not null;\"\n",
    "miss_13 = conn.execute(min_max_avg_pop_proj).fetchall()"
   ]
  },
  {
   "cell_type": "code",
   "execution_count": 40,
   "id": "7d4d5ef8",
   "metadata": {},
   "outputs": [
    {
     "data": {
      "text/plain": [
       "[(48.0, 1373639072.25, 33405469.3)]"
      ]
     },
     "execution_count": 40,
     "metadata": {},
     "output_type": "execute_result"
    }
   ],
   "source": [
    "miss_13"
   ]
  },
  {
   "cell_type": "code",
   "execution_count": 41,
   "id": "cc3d5ea2",
   "metadata": {},
   "outputs": [
    {
     "name": "stdout",
     "output_type": "stream",
     "text": [
      "La min: 48.0\n",
      "La max: 1373639072.25\n",
      "La moyenne: 33405469.3\n"
     ]
    }
   ],
   "source": [
    "for typ in miss_13: \n",
    "    min, max, avg = typ\n",
    "    print(\"La min:\", min)\n",
    "    print(\"La max:\", max)\n",
    "    print(\"La moyenne:\", avg)"
   ]
  },
  {
   "cell_type": "markdown",
   "id": "93d1a2de",
   "metadata": {},
   "source": [
    "## Fin"
   ]
  },
  {
   "cell_type": "code",
   "execution_count": null,
   "id": "0133516b",
   "metadata": {},
   "outputs": [],
   "source": []
  }
 ],
 "metadata": {
  "kernelspec": {
   "display_name": "Python 3 (ipykernel)",
   "language": "python",
   "name": "python3"
  },
  "language_info": {
   "codemirror_mode": {
    "name": "ipython",
    "version": 3
   },
   "file_extension": ".py",
   "mimetype": "text/x-python",
   "name": "python",
   "nbconvert_exporter": "python",
   "pygments_lexer": "ipython3",
   "version": "3.11.5"
  }
 },
 "nbformat": 4,
 "nbformat_minor": 5
}
